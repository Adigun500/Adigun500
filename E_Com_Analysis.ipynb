{
  "nbformat": 4,
  "nbformat_minor": 0,
  "metadata": {
    "colab": {
      "provenance": [],
      "mount_file_id": "1B0WickhvGhQBx6ph-uAtYdqU1KBMNOLw",
      "authorship_tag": "ABX9TyNnPvxgqrhvDneN9eYysfcA",
      "include_colab_link": true
    },
    "kernelspec": {
      "name": "python3",
      "display_name": "Python 3"
    },
    "language_info": {
      "name": "python"
    }
  },
  "cells": [
    {
      "cell_type": "markdown",
      "metadata": {
        "id": "view-in-github",
        "colab_type": "text"
      },
      "source": [
        "<a href=\"https://colab.research.google.com/github/RaheemYusuf/Adigun500/blob/main/E_Com_Analysis.ipynb\" target=\"_parent\"><img src=\"https://colab.research.google.com/assets/colab-badge.svg\" alt=\"Open In Colab\"/></a>"
      ]
    },
    {
      "cell_type": "markdown",
      "source": [
        "# **SALES DATA ANALYSIS (E-COMMERCE CASE STUDY.)**\n",
        "\n",
        "We are analysis an e-commerce sales data.\n",
        "\n",
        "The objectives of this analysis are:\n",
        "\n",
        "1. What is the best month for sale?"
      ],
      "metadata": {
        "id": "Yu2GoKqs516Z"
      }
    },
    {
      "cell_type": "markdown",
      "source": [
        "# **Data Dictionary**\n",
        "\n",
        "The dataset contains sales history of an e-commerces sales over a period of 12 months, combined togehter, we have 373,700 observations and 6 variables.\n",
        "The variables are:\n",
        "OrderID:- a unique number for each item ordered.\n",
        "\n",
        "Product:- name of item ordered\n",
        "\n",
        "Quantity Ordered:- the number of a particular item ordered.\n",
        "\n",
        "Price Each:- Price or cost of each item.\n",
        "\n",
        "Order Date:- Date a particular item was ordered\n",
        "\n",
        "Purchase Address: The address was made or delivery address."
      ],
      "metadata": {
        "id": "GbSj-u9K6tbL"
      }
    },
    {
      "cell_type": "code",
      "source": [
        "#Importing the neccessary library.\n",
        "\n",
        "import pandas as pd \n",
        "import numpy as np\n",
        "import matplotlib.pyplot as plt\n",
        "import os #needed when dealing with filepath directory."
      ],
      "metadata": {
        "id": "qtHObRb06lxJ"
      },
      "execution_count": 2,
      "outputs": []
    },
    {
      "cell_type": "code",
      "source": [
        "#Our files are individuals csv, so we are going to combine the files. \n",
        "\n",
        "os.listdir('/content/drive/MyDrive/Colab Notebooks/Ecom data')"
      ],
      "metadata": {
        "colab": {
          "base_uri": "https://localhost:8080/"
        },
        "id": "nkQIEzs67wP7",
        "outputId": "dfdfb12c-4626-4153-f166-b37ba0ac00bf"
      },
      "execution_count": 3,
      "outputs": [
        {
          "output_type": "execute_result",
          "data": {
            "text/plain": [
              "['Sales_March_2019.csv',\n",
              " 'Sales_August_2019.csv',\n",
              " 'Sales_November_2019.csv',\n",
              " 'Sales_July_2019.csv',\n",
              " 'Sales_October_2019.csv',\n",
              " 'Sales_September_2019.csv',\n",
              " 'Sales_February_2019.csv',\n",
              " 'Sales_June_2019.csv',\n",
              " 'Sales_May_2019.csv',\n",
              " 'Sales_December_2019.csv',\n",
              " 'Sales_January_2019.csv',\n",
              " 'Sales_April_2019.csv']"
            ]
          },
          "metadata": {},
          "execution_count": 3
        }
      ]
    },
    {
      "cell_type": "code",
      "source": [
        "#Saving the list into a variable\n",
        "\n",
        "sales_files = os.listdir('/content/drive/MyDrive/Colab Notebooks/Ecom data')\n",
        "\n",
        "sales_files\n"
      ],
      "metadata": {
        "colab": {
          "base_uri": "https://localhost:8080/"
        },
        "id": "7cI_nhwX8jlk",
        "outputId": "669b014a-888f-4b34-f153-4eb09714c6ae"
      },
      "execution_count": 4,
      "outputs": [
        {
          "output_type": "execute_result",
          "data": {
            "text/plain": [
              "['Sales_March_2019.csv',\n",
              " 'Sales_August_2019.csv',\n",
              " 'Sales_November_2019.csv',\n",
              " 'Sales_July_2019.csv',\n",
              " 'Sales_October_2019.csv',\n",
              " 'Sales_September_2019.csv',\n",
              " 'Sales_February_2019.csv',\n",
              " 'Sales_June_2019.csv',\n",
              " 'Sales_May_2019.csv',\n",
              " 'Sales_December_2019.csv',\n",
              " 'Sales_January_2019.csv',\n",
              " 'Sales_April_2019.csv']"
            ]
          },
          "metadata": {},
          "execution_count": 4
        }
      ]
    },
    {
      "cell_type": "code",
      "source": [
        "#To get out each files, first I will iterate over each and append it. \n",
        "\n",
        "#buidling the iterator\n",
        "\n",
        "for file in sales_files:\n",
        "  print(file)"
      ],
      "metadata": {
        "colab": {
          "base_uri": "https://localhost:8080/"
        },
        "id": "sVOgLjXP9x4g",
        "outputId": "90869b9f-fa07-48d2-9068-9d9bb6a29f2b"
      },
      "execution_count": 5,
      "outputs": [
        {
          "output_type": "stream",
          "name": "stdout",
          "text": [
            "Sales_March_2019.csv\n",
            "Sales_August_2019.csv\n",
            "Sales_November_2019.csv\n",
            "Sales_July_2019.csv\n",
            "Sales_October_2019.csv\n",
            "Sales_September_2019.csv\n",
            "Sales_February_2019.csv\n",
            "Sales_June_2019.csv\n",
            "Sales_May_2019.csv\n",
            "Sales_December_2019.csv\n",
            "Sales_January_2019.csv\n",
            "Sales_April_2019.csv\n"
          ]
        }
      ]
    },
    {
      "cell_type": "code",
      "source": [
        "#Now I will read each files and also combine them to a single file\n",
        "\n",
        "sales_files_path = '/content/drive/MyDrive/Colab Notebooks/Ecom data'\n",
        "all_data=pd.DataFrame()\n",
        "\n",
        "for file in sales_files:\n",
        "  current_df=pd.read_csv(sales_files_path+'/'+file) #combining the filepath and file name together\n",
        "  all_data=pd.concat([all_data,current_df])\n",
        "\n",
        "all_data.shape #To get the data shape"
      ],
      "metadata": {
        "colab": {
          "base_uri": "https://localhost:8080/"
        },
        "id": "QPBGeebZ-MLA",
        "outputId": "4a9c6031-8d02-423f-d20d-494e0dc1d402"
      },
      "execution_count": 6,
      "outputs": [
        {
          "output_type": "execute_result",
          "data": {
            "text/plain": [
              "(186850, 6)"
            ]
          },
          "metadata": {},
          "execution_count": 6
        }
      ]
    },
    {
      "cell_type": "code",
      "source": [
        "#Converting the result we have to csv\n",
        "\n",
        "all_data.to_csv(sales_files_path+'/all_data.csv',index=False)"
      ],
      "metadata": {
        "id": "KEZtT6sWAYhl"
      },
      "execution_count": 7,
      "outputs": []
    },
    {
      "cell_type": "code",
      "source": [
        "#previewing the first 5 rows of the dataframe\n",
        "\n",
        "all_data.head()"
      ],
      "metadata": {
        "id": "4h3MKpcYDhR-",
        "colab": {
          "base_uri": "https://localhost:8080/",
          "height": 354
        },
        "outputId": "2c48890b-a81a-4d55-8057-54b350b87134"
      },
      "execution_count": 8,
      "outputs": [
        {
          "output_type": "execute_result",
          "data": {
            "text/plain": [
              "  Order ID                     Product Quantity Ordered Price Each  \\\n",
              "0   162009                      iPhone                1        700   \n",
              "1   162009    Lightning Charging Cable                1      14.95   \n",
              "2   162009            Wired Headphones                2      11.99   \n",
              "3   162010  Bose SoundSport Headphones                1      99.99   \n",
              "4   162011      34in Ultrawide Monitor                1     379.99   \n",
              "\n",
              "       Order Date                      Purchase Address  \n",
              "0  03/28/19 20:59       942 Church St, Austin, TX 73301  \n",
              "1  03/28/19 20:59       942 Church St, Austin, TX 73301  \n",
              "2  03/28/19 20:59       942 Church St, Austin, TX 73301  \n",
              "3  03/17/19 05:39  261 10th St, San Francisco, CA 94016  \n",
              "4  03/10/19 00:01  764 13th St, San Francisco, CA 94016  "
            ],
            "text/html": [
              "\n",
              "  <div id=\"df-da0b8765-2a06-43c4-a995-1c4769f6cda3\">\n",
              "    <div class=\"colab-df-container\">\n",
              "      <div>\n",
              "<style scoped>\n",
              "    .dataframe tbody tr th:only-of-type {\n",
              "        vertical-align: middle;\n",
              "    }\n",
              "\n",
              "    .dataframe tbody tr th {\n",
              "        vertical-align: top;\n",
              "    }\n",
              "\n",
              "    .dataframe thead th {\n",
              "        text-align: right;\n",
              "    }\n",
              "</style>\n",
              "<table border=\"1\" class=\"dataframe\">\n",
              "  <thead>\n",
              "    <tr style=\"text-align: right;\">\n",
              "      <th></th>\n",
              "      <th>Order ID</th>\n",
              "      <th>Product</th>\n",
              "      <th>Quantity Ordered</th>\n",
              "      <th>Price Each</th>\n",
              "      <th>Order Date</th>\n",
              "      <th>Purchase Address</th>\n",
              "    </tr>\n",
              "  </thead>\n",
              "  <tbody>\n",
              "    <tr>\n",
              "      <th>0</th>\n",
              "      <td>162009</td>\n",
              "      <td>iPhone</td>\n",
              "      <td>1</td>\n",
              "      <td>700</td>\n",
              "      <td>03/28/19 20:59</td>\n",
              "      <td>942 Church St, Austin, TX 73301</td>\n",
              "    </tr>\n",
              "    <tr>\n",
              "      <th>1</th>\n",
              "      <td>162009</td>\n",
              "      <td>Lightning Charging Cable</td>\n",
              "      <td>1</td>\n",
              "      <td>14.95</td>\n",
              "      <td>03/28/19 20:59</td>\n",
              "      <td>942 Church St, Austin, TX 73301</td>\n",
              "    </tr>\n",
              "    <tr>\n",
              "      <th>2</th>\n",
              "      <td>162009</td>\n",
              "      <td>Wired Headphones</td>\n",
              "      <td>2</td>\n",
              "      <td>11.99</td>\n",
              "      <td>03/28/19 20:59</td>\n",
              "      <td>942 Church St, Austin, TX 73301</td>\n",
              "    </tr>\n",
              "    <tr>\n",
              "      <th>3</th>\n",
              "      <td>162010</td>\n",
              "      <td>Bose SoundSport Headphones</td>\n",
              "      <td>1</td>\n",
              "      <td>99.99</td>\n",
              "      <td>03/17/19 05:39</td>\n",
              "      <td>261 10th St, San Francisco, CA 94016</td>\n",
              "    </tr>\n",
              "    <tr>\n",
              "      <th>4</th>\n",
              "      <td>162011</td>\n",
              "      <td>34in Ultrawide Monitor</td>\n",
              "      <td>1</td>\n",
              "      <td>379.99</td>\n",
              "      <td>03/10/19 00:01</td>\n",
              "      <td>764 13th St, San Francisco, CA 94016</td>\n",
              "    </tr>\n",
              "  </tbody>\n",
              "</table>\n",
              "</div>\n",
              "      <button class=\"colab-df-convert\" onclick=\"convertToInteractive('df-da0b8765-2a06-43c4-a995-1c4769f6cda3')\"\n",
              "              title=\"Convert this dataframe to an interactive table.\"\n",
              "              style=\"display:none;\">\n",
              "        \n",
              "  <svg xmlns=\"http://www.w3.org/2000/svg\" height=\"24px\"viewBox=\"0 0 24 24\"\n",
              "       width=\"24px\">\n",
              "    <path d=\"M0 0h24v24H0V0z\" fill=\"none\"/>\n",
              "    <path d=\"M18.56 5.44l.94 2.06.94-2.06 2.06-.94-2.06-.94-.94-2.06-.94 2.06-2.06.94zm-11 1L8.5 8.5l.94-2.06 2.06-.94-2.06-.94L8.5 2.5l-.94 2.06-2.06.94zm10 10l.94 2.06.94-2.06 2.06-.94-2.06-.94-.94-2.06-.94 2.06-2.06.94z\"/><path d=\"M17.41 7.96l-1.37-1.37c-.4-.4-.92-.59-1.43-.59-.52 0-1.04.2-1.43.59L10.3 9.45l-7.72 7.72c-.78.78-.78 2.05 0 2.83L4 21.41c.39.39.9.59 1.41.59.51 0 1.02-.2 1.41-.59l7.78-7.78 2.81-2.81c.8-.78.8-2.07 0-2.86zM5.41 20L4 18.59l7.72-7.72 1.47 1.35L5.41 20z\"/>\n",
              "  </svg>\n",
              "      </button>\n",
              "      \n",
              "  <style>\n",
              "    .colab-df-container {\n",
              "      display:flex;\n",
              "      flex-wrap:wrap;\n",
              "      gap: 12px;\n",
              "    }\n",
              "\n",
              "    .colab-df-convert {\n",
              "      background-color: #E8F0FE;\n",
              "      border: none;\n",
              "      border-radius: 50%;\n",
              "      cursor: pointer;\n",
              "      display: none;\n",
              "      fill: #1967D2;\n",
              "      height: 32px;\n",
              "      padding: 0 0 0 0;\n",
              "      width: 32px;\n",
              "    }\n",
              "\n",
              "    .colab-df-convert:hover {\n",
              "      background-color: #E2EBFA;\n",
              "      box-shadow: 0px 1px 2px rgba(60, 64, 67, 0.3), 0px 1px 3px 1px rgba(60, 64, 67, 0.15);\n",
              "      fill: #174EA6;\n",
              "    }\n",
              "\n",
              "    [theme=dark] .colab-df-convert {\n",
              "      background-color: #3B4455;\n",
              "      fill: #D2E3FC;\n",
              "    }\n",
              "\n",
              "    [theme=dark] .colab-df-convert:hover {\n",
              "      background-color: #434B5C;\n",
              "      box-shadow: 0px 1px 3px 1px rgba(0, 0, 0, 0.15);\n",
              "      filter: drop-shadow(0px 1px 2px rgba(0, 0, 0, 0.3));\n",
              "      fill: #FFFFFF;\n",
              "    }\n",
              "  </style>\n",
              "\n",
              "      <script>\n",
              "        const buttonEl =\n",
              "          document.querySelector('#df-da0b8765-2a06-43c4-a995-1c4769f6cda3 button.colab-df-convert');\n",
              "        buttonEl.style.display =\n",
              "          google.colab.kernel.accessAllowed ? 'block' : 'none';\n",
              "\n",
              "        async function convertToInteractive(key) {\n",
              "          const element = document.querySelector('#df-da0b8765-2a06-43c4-a995-1c4769f6cda3');\n",
              "          const dataTable =\n",
              "            await google.colab.kernel.invokeFunction('convertToInteractive',\n",
              "                                                     [key], {});\n",
              "          if (!dataTable) return;\n",
              "\n",
              "          const docLinkHtml = 'Like what you see? Visit the ' +\n",
              "            '<a target=\"_blank\" href=https://colab.research.google.com/notebooks/data_table.ipynb>data table notebook</a>'\n",
              "            + ' to learn more about interactive tables.';\n",
              "          element.innerHTML = '';\n",
              "          dataTable['output_type'] = 'display_data';\n",
              "          await google.colab.output.renderOutput(dataTable, element);\n",
              "          const docLink = document.createElement('div');\n",
              "          docLink.innerHTML = docLinkHtml;\n",
              "          element.appendChild(docLink);\n",
              "        }\n",
              "      </script>\n",
              "    </div>\n",
              "  </div>\n",
              "  "
            ]
          },
          "metadata": {},
          "execution_count": 8
        }
      ]
    },
    {
      "cell_type": "markdown",
      "source": [
        "## **Data Cleaning**"
      ],
      "metadata": {
        "id": "Pd9AHNuHwIRu"
      }
    },
    {
      "cell_type": "code",
      "source": [
        "#checking if the data has missing value\n",
        "\n",
        "all_data.isnull().sum()"
      ],
      "metadata": {
        "colab": {
          "base_uri": "https://localhost:8080/"
        },
        "id": "11vKbKYIwNGF",
        "outputId": "2a0dc167-0d14-4c8e-e459-bc2ace67fe28"
      },
      "execution_count": 9,
      "outputs": [
        {
          "output_type": "execute_result",
          "data": {
            "text/plain": [
              "Order ID            545\n",
              "Product             545\n",
              "Quantity Ordered    545\n",
              "Price Each          545\n",
              "Order Date          545\n",
              "Purchase Address    545\n",
              "dtype: int64"
            ]
          },
          "metadata": {},
          "execution_count": 9
        }
      ]
    },
    {
      "cell_type": "code",
      "source": [
        "#Dropping duplicates\n",
        "\n",
        "all_data=all_data.dropna(how='all')"
      ],
      "metadata": {
        "id": "3c7qqVsDwVv8"
      },
      "execution_count": 10,
      "outputs": []
    },
    {
      "cell_type": "code",
      "source": [
        "#Checking the shape\n",
        "\n",
        "all_data.shape"
      ],
      "metadata": {
        "colab": {
          "base_uri": "https://localhost:8080/"
        },
        "id": "KOZ-OcFlwucO",
        "outputId": "472e82a4-5bc1-4f88-d7a3-3762e302caa8"
      },
      "execution_count": 11,
      "outputs": [
        {
          "output_type": "execute_result",
          "data": {
            "text/plain": [
              "(186305, 6)"
            ]
          },
          "metadata": {},
          "execution_count": 11
        }
      ]
    },
    {
      "cell_type": "markdown",
      "source": [
        "# **Data Analysis**\n",
        "\n",
        "\n",
        "\n",
        "\n"
      ],
      "metadata": {
        "id": "xAvNtQzcxhWq"
      }
    },
    {
      "cell_type": "markdown",
      "source": [
        "## What is the best Month for sales."
      ],
      "metadata": {
        "id": "GsHyxyF4eDdU"
      }
    },
    {
      "cell_type": "code",
      "source": [
        "#We need to define a function to extract our Month from the order date.\n",
        "\n",
        "def month(x):\n",
        "  return x.split('/')[0]"
      ],
      "metadata": {
        "id": "blKGZErewwf5"
      },
      "execution_count": 12,
      "outputs": []
    },
    {
      "cell_type": "code",
      "source": [
        "#applying the function and storing it in a new variable\n",
        "\n",
        "all_data['month']=all_data['Order Date'].apply(month)"
      ],
      "metadata": {
        "id": "lvSifjfbyVpy"
      },
      "execution_count": 13,
      "outputs": []
    },
    {
      "cell_type": "code",
      "source": [
        "#Checking out the new variable\n",
        "\n",
        "all_data.head()"
      ],
      "metadata": {
        "colab": {
          "base_uri": "https://localhost:8080/",
          "height": 354
        },
        "id": "JcLLy8LbynBS",
        "outputId": "e15b659e-455b-4479-865c-8144f25844fd"
      },
      "execution_count": 14,
      "outputs": [
        {
          "output_type": "execute_result",
          "data": {
            "text/plain": [
              "  Order ID                     Product Quantity Ordered Price Each  \\\n",
              "0   162009                      iPhone                1        700   \n",
              "1   162009    Lightning Charging Cable                1      14.95   \n",
              "2   162009            Wired Headphones                2      11.99   \n",
              "3   162010  Bose SoundSport Headphones                1      99.99   \n",
              "4   162011      34in Ultrawide Monitor                1     379.99   \n",
              "\n",
              "       Order Date                      Purchase Address month  \n",
              "0  03/28/19 20:59       942 Church St, Austin, TX 73301    03  \n",
              "1  03/28/19 20:59       942 Church St, Austin, TX 73301    03  \n",
              "2  03/28/19 20:59       942 Church St, Austin, TX 73301    03  \n",
              "3  03/17/19 05:39  261 10th St, San Francisco, CA 94016    03  \n",
              "4  03/10/19 00:01  764 13th St, San Francisco, CA 94016    03  "
            ],
            "text/html": [
              "\n",
              "  <div id=\"df-4715cf32-62a8-400c-8fe3-a800201045a6\">\n",
              "    <div class=\"colab-df-container\">\n",
              "      <div>\n",
              "<style scoped>\n",
              "    .dataframe tbody tr th:only-of-type {\n",
              "        vertical-align: middle;\n",
              "    }\n",
              "\n",
              "    .dataframe tbody tr th {\n",
              "        vertical-align: top;\n",
              "    }\n",
              "\n",
              "    .dataframe thead th {\n",
              "        text-align: right;\n",
              "    }\n",
              "</style>\n",
              "<table border=\"1\" class=\"dataframe\">\n",
              "  <thead>\n",
              "    <tr style=\"text-align: right;\">\n",
              "      <th></th>\n",
              "      <th>Order ID</th>\n",
              "      <th>Product</th>\n",
              "      <th>Quantity Ordered</th>\n",
              "      <th>Price Each</th>\n",
              "      <th>Order Date</th>\n",
              "      <th>Purchase Address</th>\n",
              "      <th>month</th>\n",
              "    </tr>\n",
              "  </thead>\n",
              "  <tbody>\n",
              "    <tr>\n",
              "      <th>0</th>\n",
              "      <td>162009</td>\n",
              "      <td>iPhone</td>\n",
              "      <td>1</td>\n",
              "      <td>700</td>\n",
              "      <td>03/28/19 20:59</td>\n",
              "      <td>942 Church St, Austin, TX 73301</td>\n",
              "      <td>03</td>\n",
              "    </tr>\n",
              "    <tr>\n",
              "      <th>1</th>\n",
              "      <td>162009</td>\n",
              "      <td>Lightning Charging Cable</td>\n",
              "      <td>1</td>\n",
              "      <td>14.95</td>\n",
              "      <td>03/28/19 20:59</td>\n",
              "      <td>942 Church St, Austin, TX 73301</td>\n",
              "      <td>03</td>\n",
              "    </tr>\n",
              "    <tr>\n",
              "      <th>2</th>\n",
              "      <td>162009</td>\n",
              "      <td>Wired Headphones</td>\n",
              "      <td>2</td>\n",
              "      <td>11.99</td>\n",
              "      <td>03/28/19 20:59</td>\n",
              "      <td>942 Church St, Austin, TX 73301</td>\n",
              "      <td>03</td>\n",
              "    </tr>\n",
              "    <tr>\n",
              "      <th>3</th>\n",
              "      <td>162010</td>\n",
              "      <td>Bose SoundSport Headphones</td>\n",
              "      <td>1</td>\n",
              "      <td>99.99</td>\n",
              "      <td>03/17/19 05:39</td>\n",
              "      <td>261 10th St, San Francisco, CA 94016</td>\n",
              "      <td>03</td>\n",
              "    </tr>\n",
              "    <tr>\n",
              "      <th>4</th>\n",
              "      <td>162011</td>\n",
              "      <td>34in Ultrawide Monitor</td>\n",
              "      <td>1</td>\n",
              "      <td>379.99</td>\n",
              "      <td>03/10/19 00:01</td>\n",
              "      <td>764 13th St, San Francisco, CA 94016</td>\n",
              "      <td>03</td>\n",
              "    </tr>\n",
              "  </tbody>\n",
              "</table>\n",
              "</div>\n",
              "      <button class=\"colab-df-convert\" onclick=\"convertToInteractive('df-4715cf32-62a8-400c-8fe3-a800201045a6')\"\n",
              "              title=\"Convert this dataframe to an interactive table.\"\n",
              "              style=\"display:none;\">\n",
              "        \n",
              "  <svg xmlns=\"http://www.w3.org/2000/svg\" height=\"24px\"viewBox=\"0 0 24 24\"\n",
              "       width=\"24px\">\n",
              "    <path d=\"M0 0h24v24H0V0z\" fill=\"none\"/>\n",
              "    <path d=\"M18.56 5.44l.94 2.06.94-2.06 2.06-.94-2.06-.94-.94-2.06-.94 2.06-2.06.94zm-11 1L8.5 8.5l.94-2.06 2.06-.94-2.06-.94L8.5 2.5l-.94 2.06-2.06.94zm10 10l.94 2.06.94-2.06 2.06-.94-2.06-.94-.94-2.06-.94 2.06-2.06.94z\"/><path d=\"M17.41 7.96l-1.37-1.37c-.4-.4-.92-.59-1.43-.59-.52 0-1.04.2-1.43.59L10.3 9.45l-7.72 7.72c-.78.78-.78 2.05 0 2.83L4 21.41c.39.39.9.59 1.41.59.51 0 1.02-.2 1.41-.59l7.78-7.78 2.81-2.81c.8-.78.8-2.07 0-2.86zM5.41 20L4 18.59l7.72-7.72 1.47 1.35L5.41 20z\"/>\n",
              "  </svg>\n",
              "      </button>\n",
              "      \n",
              "  <style>\n",
              "    .colab-df-container {\n",
              "      display:flex;\n",
              "      flex-wrap:wrap;\n",
              "      gap: 12px;\n",
              "    }\n",
              "\n",
              "    .colab-df-convert {\n",
              "      background-color: #E8F0FE;\n",
              "      border: none;\n",
              "      border-radius: 50%;\n",
              "      cursor: pointer;\n",
              "      display: none;\n",
              "      fill: #1967D2;\n",
              "      height: 32px;\n",
              "      padding: 0 0 0 0;\n",
              "      width: 32px;\n",
              "    }\n",
              "\n",
              "    .colab-df-convert:hover {\n",
              "      background-color: #E2EBFA;\n",
              "      box-shadow: 0px 1px 2px rgba(60, 64, 67, 0.3), 0px 1px 3px 1px rgba(60, 64, 67, 0.15);\n",
              "      fill: #174EA6;\n",
              "    }\n",
              "\n",
              "    [theme=dark] .colab-df-convert {\n",
              "      background-color: #3B4455;\n",
              "      fill: #D2E3FC;\n",
              "    }\n",
              "\n",
              "    [theme=dark] .colab-df-convert:hover {\n",
              "      background-color: #434B5C;\n",
              "      box-shadow: 0px 1px 3px 1px rgba(0, 0, 0, 0.15);\n",
              "      filter: drop-shadow(0px 1px 2px rgba(0, 0, 0, 0.3));\n",
              "      fill: #FFFFFF;\n",
              "    }\n",
              "  </style>\n",
              "\n",
              "      <script>\n",
              "        const buttonEl =\n",
              "          document.querySelector('#df-4715cf32-62a8-400c-8fe3-a800201045a6 button.colab-df-convert');\n",
              "        buttonEl.style.display =\n",
              "          google.colab.kernel.accessAllowed ? 'block' : 'none';\n",
              "\n",
              "        async function convertToInteractive(key) {\n",
              "          const element = document.querySelector('#df-4715cf32-62a8-400c-8fe3-a800201045a6');\n",
              "          const dataTable =\n",
              "            await google.colab.kernel.invokeFunction('convertToInteractive',\n",
              "                                                     [key], {});\n",
              "          if (!dataTable) return;\n",
              "\n",
              "          const docLinkHtml = 'Like what you see? Visit the ' +\n",
              "            '<a target=\"_blank\" href=https://colab.research.google.com/notebooks/data_table.ipynb>data table notebook</a>'\n",
              "            + ' to learn more about interactive tables.';\n",
              "          element.innerHTML = '';\n",
              "          dataTable['output_type'] = 'display_data';\n",
              "          await google.colab.output.renderOutput(dataTable, element);\n",
              "          const docLink = document.createElement('div');\n",
              "          docLink.innerHTML = docLinkHtml;\n",
              "          element.appendChild(docLink);\n",
              "        }\n",
              "      </script>\n",
              "    </div>\n",
              "  </div>\n",
              "  "
            ]
          },
          "metadata": {},
          "execution_count": 14
        }
      ]
    },
    {
      "cell_type": "code",
      "source": [
        "#Checking the datatype of the entire dataframe\n",
        "\n",
        "all_data.dtypes"
      ],
      "metadata": {
        "colab": {
          "base_uri": "https://localhost:8080/"
        },
        "id": "JyV5iZsczGkx",
        "outputId": "cf7a06bc-c524-4991-9f6f-8582dd998a25"
      },
      "execution_count": 15,
      "outputs": [
        {
          "output_type": "execute_result",
          "data": {
            "text/plain": [
              "Order ID            object\n",
              "Product             object\n",
              "Quantity Ordered    object\n",
              "Price Each          object\n",
              "Order Date          object\n",
              "Purchase Address    object\n",
              "month               object\n",
              "dtype: object"
            ]
          },
          "metadata": {},
          "execution_count": 15
        }
      ]
    },
    {
      "cell_type": "code",
      "source": [
        "#Changing the datatype of month to int\n",
        "\n",
        "all_data['month']=all_data['month'].astype(int)"
      ],
      "metadata": {
        "colab": {
          "base_uri": "https://localhost:8080/",
          "height": 285
        },
        "id": "k_2Vul1qzgMh",
        "outputId": "79b5dabe-6257-4cac-dc9b-52c04443f232"
      },
      "execution_count": 16,
      "outputs": [
        {
          "output_type": "error",
          "ename": "ValueError",
          "evalue": "ignored",
          "traceback": [
            "\u001b[0;31m---------------------------------------------------------------------------\u001b[0m",
            "\u001b[0;31mValueError\u001b[0m                                Traceback (most recent call last)",
            "\u001b[0;32m<ipython-input-16-19184295f3d8>\u001b[0m in \u001b[0;36m<module>\u001b[0;34m\u001b[0m\n\u001b[1;32m      1\u001b[0m \u001b[0;31m#Changing the datatype of month to int\u001b[0m\u001b[0;34m\u001b[0m\u001b[0;34m\u001b[0m\u001b[0;34m\u001b[0m\u001b[0m\n\u001b[1;32m      2\u001b[0m \u001b[0;34m\u001b[0m\u001b[0m\n\u001b[0;32m----> 3\u001b[0;31m \u001b[0mall_data\u001b[0m\u001b[0;34m[\u001b[0m\u001b[0;34m'month'\u001b[0m\u001b[0;34m]\u001b[0m\u001b[0;34m=\u001b[0m\u001b[0mall_data\u001b[0m\u001b[0;34m[\u001b[0m\u001b[0;34m'month'\u001b[0m\u001b[0;34m]\u001b[0m\u001b[0;34m.\u001b[0m\u001b[0mastype\u001b[0m\u001b[0;34m(\u001b[0m\u001b[0mint\u001b[0m\u001b[0;34m)\u001b[0m\u001b[0;34m\u001b[0m\u001b[0;34m\u001b[0m\u001b[0m\n\u001b[0m",
            "\u001b[0;32m/usr/local/lib/python3.8/dist-packages/pandas/core/generic.py\u001b[0m in \u001b[0;36mastype\u001b[0;34m(self, dtype, copy, errors)\u001b[0m\n\u001b[1;32m   5813\u001b[0m         \u001b[0;32melse\u001b[0m\u001b[0;34m:\u001b[0m\u001b[0;34m\u001b[0m\u001b[0;34m\u001b[0m\u001b[0m\n\u001b[1;32m   5814\u001b[0m             \u001b[0;31m# else, only a single dtype is given\u001b[0m\u001b[0;34m\u001b[0m\u001b[0;34m\u001b[0m\u001b[0;34m\u001b[0m\u001b[0m\n\u001b[0;32m-> 5815\u001b[0;31m             \u001b[0mnew_data\u001b[0m \u001b[0;34m=\u001b[0m \u001b[0mself\u001b[0m\u001b[0;34m.\u001b[0m\u001b[0m_mgr\u001b[0m\u001b[0;34m.\u001b[0m\u001b[0mastype\u001b[0m\u001b[0;34m(\u001b[0m\u001b[0mdtype\u001b[0m\u001b[0;34m=\u001b[0m\u001b[0mdtype\u001b[0m\u001b[0;34m,\u001b[0m \u001b[0mcopy\u001b[0m\u001b[0;34m=\u001b[0m\u001b[0mcopy\u001b[0m\u001b[0;34m,\u001b[0m \u001b[0merrors\u001b[0m\u001b[0;34m=\u001b[0m\u001b[0merrors\u001b[0m\u001b[0;34m)\u001b[0m\u001b[0;34m\u001b[0m\u001b[0;34m\u001b[0m\u001b[0m\n\u001b[0m\u001b[1;32m   5816\u001b[0m             \u001b[0;32mreturn\u001b[0m \u001b[0mself\u001b[0m\u001b[0;34m.\u001b[0m\u001b[0m_constructor\u001b[0m\u001b[0;34m(\u001b[0m\u001b[0mnew_data\u001b[0m\u001b[0;34m)\u001b[0m\u001b[0;34m.\u001b[0m\u001b[0m__finalize__\u001b[0m\u001b[0;34m(\u001b[0m\u001b[0mself\u001b[0m\u001b[0;34m,\u001b[0m \u001b[0mmethod\u001b[0m\u001b[0;34m=\u001b[0m\u001b[0;34m\"astype\"\u001b[0m\u001b[0;34m)\u001b[0m\u001b[0;34m\u001b[0m\u001b[0;34m\u001b[0m\u001b[0m\n\u001b[1;32m   5817\u001b[0m \u001b[0;34m\u001b[0m\u001b[0m\n",
            "\u001b[0;32m/usr/local/lib/python3.8/dist-packages/pandas/core/internals/managers.py\u001b[0m in \u001b[0;36mastype\u001b[0;34m(self, dtype, copy, errors)\u001b[0m\n\u001b[1;32m    416\u001b[0m \u001b[0;34m\u001b[0m\u001b[0m\n\u001b[1;32m    417\u001b[0m     \u001b[0;32mdef\u001b[0m \u001b[0mastype\u001b[0m\u001b[0;34m(\u001b[0m\u001b[0mself\u001b[0m\u001b[0;34m:\u001b[0m \u001b[0mT\u001b[0m\u001b[0;34m,\u001b[0m \u001b[0mdtype\u001b[0m\u001b[0;34m,\u001b[0m \u001b[0mcopy\u001b[0m\u001b[0;34m:\u001b[0m \u001b[0mbool\u001b[0m \u001b[0;34m=\u001b[0m \u001b[0;32mFalse\u001b[0m\u001b[0;34m,\u001b[0m \u001b[0merrors\u001b[0m\u001b[0;34m:\u001b[0m \u001b[0mstr\u001b[0m \u001b[0;34m=\u001b[0m \u001b[0;34m\"raise\"\u001b[0m\u001b[0;34m)\u001b[0m \u001b[0;34m->\u001b[0m \u001b[0mT\u001b[0m\u001b[0;34m:\u001b[0m\u001b[0;34m\u001b[0m\u001b[0;34m\u001b[0m\u001b[0m\n\u001b[0;32m--> 418\u001b[0;31m         \u001b[0;32mreturn\u001b[0m \u001b[0mself\u001b[0m\u001b[0;34m.\u001b[0m\u001b[0mapply\u001b[0m\u001b[0;34m(\u001b[0m\u001b[0;34m\"astype\"\u001b[0m\u001b[0;34m,\u001b[0m \u001b[0mdtype\u001b[0m\u001b[0;34m=\u001b[0m\u001b[0mdtype\u001b[0m\u001b[0;34m,\u001b[0m \u001b[0mcopy\u001b[0m\u001b[0;34m=\u001b[0m\u001b[0mcopy\u001b[0m\u001b[0;34m,\u001b[0m \u001b[0merrors\u001b[0m\u001b[0;34m=\u001b[0m\u001b[0merrors\u001b[0m\u001b[0;34m)\u001b[0m\u001b[0;34m\u001b[0m\u001b[0;34m\u001b[0m\u001b[0m\n\u001b[0m\u001b[1;32m    419\u001b[0m \u001b[0;34m\u001b[0m\u001b[0m\n\u001b[1;32m    420\u001b[0m     def convert(\n",
            "\u001b[0;32m/usr/local/lib/python3.8/dist-packages/pandas/core/internals/managers.py\u001b[0m in \u001b[0;36mapply\u001b[0;34m(self, f, align_keys, ignore_failures, **kwargs)\u001b[0m\n\u001b[1;32m    325\u001b[0m                     \u001b[0mapplied\u001b[0m \u001b[0;34m=\u001b[0m \u001b[0mb\u001b[0m\u001b[0;34m.\u001b[0m\u001b[0mapply\u001b[0m\u001b[0;34m(\u001b[0m\u001b[0mf\u001b[0m\u001b[0;34m,\u001b[0m \u001b[0;34m**\u001b[0m\u001b[0mkwargs\u001b[0m\u001b[0;34m)\u001b[0m\u001b[0;34m\u001b[0m\u001b[0;34m\u001b[0m\u001b[0m\n\u001b[1;32m    326\u001b[0m                 \u001b[0;32melse\u001b[0m\u001b[0;34m:\u001b[0m\u001b[0;34m\u001b[0m\u001b[0;34m\u001b[0m\u001b[0m\n\u001b[0;32m--> 327\u001b[0;31m                     \u001b[0mapplied\u001b[0m \u001b[0;34m=\u001b[0m \u001b[0mgetattr\u001b[0m\u001b[0;34m(\u001b[0m\u001b[0mb\u001b[0m\u001b[0;34m,\u001b[0m \u001b[0mf\u001b[0m\u001b[0;34m)\u001b[0m\u001b[0;34m(\u001b[0m\u001b[0;34m**\u001b[0m\u001b[0mkwargs\u001b[0m\u001b[0;34m)\u001b[0m\u001b[0;34m\u001b[0m\u001b[0;34m\u001b[0m\u001b[0m\n\u001b[0m\u001b[1;32m    328\u001b[0m             \u001b[0;32mexcept\u001b[0m \u001b[0;34m(\u001b[0m\u001b[0mTypeError\u001b[0m\u001b[0;34m,\u001b[0m \u001b[0mNotImplementedError\u001b[0m\u001b[0;34m)\u001b[0m\u001b[0;34m:\u001b[0m\u001b[0;34m\u001b[0m\u001b[0;34m\u001b[0m\u001b[0m\n\u001b[1;32m    329\u001b[0m                 \u001b[0;32mif\u001b[0m \u001b[0;32mnot\u001b[0m \u001b[0mignore_failures\u001b[0m\u001b[0;34m:\u001b[0m\u001b[0;34m\u001b[0m\u001b[0;34m\u001b[0m\u001b[0m\n",
            "\u001b[0;32m/usr/local/lib/python3.8/dist-packages/pandas/core/internals/blocks.py\u001b[0m in \u001b[0;36mastype\u001b[0;34m(self, dtype, copy, errors)\u001b[0m\n\u001b[1;32m    589\u001b[0m         \u001b[0mvalues\u001b[0m \u001b[0;34m=\u001b[0m \u001b[0mself\u001b[0m\u001b[0;34m.\u001b[0m\u001b[0mvalues\u001b[0m\u001b[0;34m\u001b[0m\u001b[0;34m\u001b[0m\u001b[0m\n\u001b[1;32m    590\u001b[0m \u001b[0;34m\u001b[0m\u001b[0m\n\u001b[0;32m--> 591\u001b[0;31m         \u001b[0mnew_values\u001b[0m \u001b[0;34m=\u001b[0m \u001b[0mastype_array_safe\u001b[0m\u001b[0;34m(\u001b[0m\u001b[0mvalues\u001b[0m\u001b[0;34m,\u001b[0m \u001b[0mdtype\u001b[0m\u001b[0;34m,\u001b[0m \u001b[0mcopy\u001b[0m\u001b[0;34m=\u001b[0m\u001b[0mcopy\u001b[0m\u001b[0;34m,\u001b[0m \u001b[0merrors\u001b[0m\u001b[0;34m=\u001b[0m\u001b[0merrors\u001b[0m\u001b[0;34m)\u001b[0m\u001b[0;34m\u001b[0m\u001b[0;34m\u001b[0m\u001b[0m\n\u001b[0m\u001b[1;32m    592\u001b[0m \u001b[0;34m\u001b[0m\u001b[0m\n\u001b[1;32m    593\u001b[0m         \u001b[0mnew_values\u001b[0m \u001b[0;34m=\u001b[0m \u001b[0mmaybe_coerce_values\u001b[0m\u001b[0;34m(\u001b[0m\u001b[0mnew_values\u001b[0m\u001b[0;34m)\u001b[0m\u001b[0;34m\u001b[0m\u001b[0;34m\u001b[0m\u001b[0m\n",
            "\u001b[0;32m/usr/local/lib/python3.8/dist-packages/pandas/core/dtypes/cast.py\u001b[0m in \u001b[0;36mastype_array_safe\u001b[0;34m(values, dtype, copy, errors)\u001b[0m\n\u001b[1;32m   1307\u001b[0m \u001b[0;34m\u001b[0m\u001b[0m\n\u001b[1;32m   1308\u001b[0m     \u001b[0;32mtry\u001b[0m\u001b[0;34m:\u001b[0m\u001b[0;34m\u001b[0m\u001b[0;34m\u001b[0m\u001b[0m\n\u001b[0;32m-> 1309\u001b[0;31m         \u001b[0mnew_values\u001b[0m \u001b[0;34m=\u001b[0m \u001b[0mastype_array\u001b[0m\u001b[0;34m(\u001b[0m\u001b[0mvalues\u001b[0m\u001b[0;34m,\u001b[0m \u001b[0mdtype\u001b[0m\u001b[0;34m,\u001b[0m \u001b[0mcopy\u001b[0m\u001b[0;34m=\u001b[0m\u001b[0mcopy\u001b[0m\u001b[0;34m)\u001b[0m\u001b[0;34m\u001b[0m\u001b[0;34m\u001b[0m\u001b[0m\n\u001b[0m\u001b[1;32m   1310\u001b[0m     \u001b[0;32mexcept\u001b[0m \u001b[0;34m(\u001b[0m\u001b[0mValueError\u001b[0m\u001b[0;34m,\u001b[0m \u001b[0mTypeError\u001b[0m\u001b[0;34m)\u001b[0m\u001b[0;34m:\u001b[0m\u001b[0;34m\u001b[0m\u001b[0;34m\u001b[0m\u001b[0m\n\u001b[1;32m   1311\u001b[0m         \u001b[0;31m# e.g. astype_nansafe can fail on object-dtype of strings\u001b[0m\u001b[0;34m\u001b[0m\u001b[0;34m\u001b[0m\u001b[0;34m\u001b[0m\u001b[0m\n",
            "\u001b[0;32m/usr/local/lib/python3.8/dist-packages/pandas/core/dtypes/cast.py\u001b[0m in \u001b[0;36mastype_array\u001b[0;34m(values, dtype, copy)\u001b[0m\n\u001b[1;32m   1255\u001b[0m \u001b[0;34m\u001b[0m\u001b[0m\n\u001b[1;32m   1256\u001b[0m     \u001b[0;32melse\u001b[0m\u001b[0;34m:\u001b[0m\u001b[0;34m\u001b[0m\u001b[0;34m\u001b[0m\u001b[0m\n\u001b[0;32m-> 1257\u001b[0;31m         \u001b[0mvalues\u001b[0m \u001b[0;34m=\u001b[0m \u001b[0mastype_nansafe\u001b[0m\u001b[0;34m(\u001b[0m\u001b[0mvalues\u001b[0m\u001b[0;34m,\u001b[0m \u001b[0mdtype\u001b[0m\u001b[0;34m,\u001b[0m \u001b[0mcopy\u001b[0m\u001b[0;34m=\u001b[0m\u001b[0mcopy\u001b[0m\u001b[0;34m)\u001b[0m\u001b[0;34m\u001b[0m\u001b[0;34m\u001b[0m\u001b[0m\n\u001b[0m\u001b[1;32m   1258\u001b[0m \u001b[0;34m\u001b[0m\u001b[0m\n\u001b[1;32m   1259\u001b[0m     \u001b[0;31m# in pandas we don't store numpy str dtypes, so convert to object\u001b[0m\u001b[0;34m\u001b[0m\u001b[0;34m\u001b[0m\u001b[0;34m\u001b[0m\u001b[0m\n",
            "\u001b[0;32m/usr/local/lib/python3.8/dist-packages/pandas/core/dtypes/cast.py\u001b[0m in \u001b[0;36mastype_nansafe\u001b[0;34m(arr, dtype, copy, skipna)\u001b[0m\n\u001b[1;32m   1172\u001b[0m         \u001b[0;31m# work around NumPy brokenness, #1987\u001b[0m\u001b[0;34m\u001b[0m\u001b[0;34m\u001b[0m\u001b[0;34m\u001b[0m\u001b[0m\n\u001b[1;32m   1173\u001b[0m         \u001b[0;32mif\u001b[0m \u001b[0mnp\u001b[0m\u001b[0;34m.\u001b[0m\u001b[0missubdtype\u001b[0m\u001b[0;34m(\u001b[0m\u001b[0mdtype\u001b[0m\u001b[0;34m.\u001b[0m\u001b[0mtype\u001b[0m\u001b[0;34m,\u001b[0m \u001b[0mnp\u001b[0m\u001b[0;34m.\u001b[0m\u001b[0minteger\u001b[0m\u001b[0;34m)\u001b[0m\u001b[0;34m:\u001b[0m\u001b[0;34m\u001b[0m\u001b[0;34m\u001b[0m\u001b[0m\n\u001b[0;32m-> 1174\u001b[0;31m             \u001b[0;32mreturn\u001b[0m \u001b[0mlib\u001b[0m\u001b[0;34m.\u001b[0m\u001b[0mastype_intsafe\u001b[0m\u001b[0;34m(\u001b[0m\u001b[0marr\u001b[0m\u001b[0;34m,\u001b[0m \u001b[0mdtype\u001b[0m\u001b[0;34m)\u001b[0m\u001b[0;34m\u001b[0m\u001b[0;34m\u001b[0m\u001b[0m\n\u001b[0m\u001b[1;32m   1175\u001b[0m \u001b[0;34m\u001b[0m\u001b[0m\n\u001b[1;32m   1176\u001b[0m         \u001b[0;31m# if we have a datetime/timedelta array of objects\u001b[0m\u001b[0;34m\u001b[0m\u001b[0;34m\u001b[0m\u001b[0;34m\u001b[0m\u001b[0m\n",
            "\u001b[0;32m/usr/local/lib/python3.8/dist-packages/pandas/_libs/lib.pyx\u001b[0m in \u001b[0;36mpandas._libs.lib.astype_intsafe\u001b[0;34m()\u001b[0m\n",
            "\u001b[0;31mValueError\u001b[0m: invalid literal for int() with base 10: 'Order Date'"
          ]
        }
      ]
    },
    {
      "cell_type": "code",
      "source": [
        "#We need to check the unique value of of the month variable\n",
        "\n",
        "all_data['month'].unique()"
      ],
      "metadata": {
        "colab": {
          "base_uri": "https://localhost:8080/"
        },
        "id": "zJJoICyQ0KEf",
        "outputId": "3d438c46-03b9-4913-d09d-0c8bab98bb11"
      },
      "execution_count": 17,
      "outputs": [
        {
          "output_type": "execute_result",
          "data": {
            "text/plain": [
              "array(['03', '04', 'Order Date', '08', '09', '11', '12', '07', '10', '02',\n",
              "       '06', '05', '01'], dtype=object)"
            ]
          },
          "metadata": {},
          "execution_count": 17
        }
      ]
    },
    {
      "cell_type": "code",
      "source": [
        "#We need to filter out the character string.\n",
        "\n",
        "filter= all_data['month']=='Order Date'\n",
        "\n",
        "all_data=all_data[~filter]\n",
        "all_data.head()"
      ],
      "metadata": {
        "colab": {
          "base_uri": "https://localhost:8080/",
          "height": 354
        },
        "id": "Pxwm0qJ10kYi",
        "outputId": "8801b675-70eb-4a41-9d85-8c093eb10f5c"
      },
      "execution_count": 18,
      "outputs": [
        {
          "output_type": "execute_result",
          "data": {
            "text/plain": [
              "  Order ID                     Product Quantity Ordered Price Each  \\\n",
              "0   162009                      iPhone                1        700   \n",
              "1   162009    Lightning Charging Cable                1      14.95   \n",
              "2   162009            Wired Headphones                2      11.99   \n",
              "3   162010  Bose SoundSport Headphones                1      99.99   \n",
              "4   162011      34in Ultrawide Monitor                1     379.99   \n",
              "\n",
              "       Order Date                      Purchase Address month  \n",
              "0  03/28/19 20:59       942 Church St, Austin, TX 73301    03  \n",
              "1  03/28/19 20:59       942 Church St, Austin, TX 73301    03  \n",
              "2  03/28/19 20:59       942 Church St, Austin, TX 73301    03  \n",
              "3  03/17/19 05:39  261 10th St, San Francisco, CA 94016    03  \n",
              "4  03/10/19 00:01  764 13th St, San Francisco, CA 94016    03  "
            ],
            "text/html": [
              "\n",
              "  <div id=\"df-fa1c69f5-cc23-40f0-8e8f-b6d76e5238a7\">\n",
              "    <div class=\"colab-df-container\">\n",
              "      <div>\n",
              "<style scoped>\n",
              "    .dataframe tbody tr th:only-of-type {\n",
              "        vertical-align: middle;\n",
              "    }\n",
              "\n",
              "    .dataframe tbody tr th {\n",
              "        vertical-align: top;\n",
              "    }\n",
              "\n",
              "    .dataframe thead th {\n",
              "        text-align: right;\n",
              "    }\n",
              "</style>\n",
              "<table border=\"1\" class=\"dataframe\">\n",
              "  <thead>\n",
              "    <tr style=\"text-align: right;\">\n",
              "      <th></th>\n",
              "      <th>Order ID</th>\n",
              "      <th>Product</th>\n",
              "      <th>Quantity Ordered</th>\n",
              "      <th>Price Each</th>\n",
              "      <th>Order Date</th>\n",
              "      <th>Purchase Address</th>\n",
              "      <th>month</th>\n",
              "    </tr>\n",
              "  </thead>\n",
              "  <tbody>\n",
              "    <tr>\n",
              "      <th>0</th>\n",
              "      <td>162009</td>\n",
              "      <td>iPhone</td>\n",
              "      <td>1</td>\n",
              "      <td>700</td>\n",
              "      <td>03/28/19 20:59</td>\n",
              "      <td>942 Church St, Austin, TX 73301</td>\n",
              "      <td>03</td>\n",
              "    </tr>\n",
              "    <tr>\n",
              "      <th>1</th>\n",
              "      <td>162009</td>\n",
              "      <td>Lightning Charging Cable</td>\n",
              "      <td>1</td>\n",
              "      <td>14.95</td>\n",
              "      <td>03/28/19 20:59</td>\n",
              "      <td>942 Church St, Austin, TX 73301</td>\n",
              "      <td>03</td>\n",
              "    </tr>\n",
              "    <tr>\n",
              "      <th>2</th>\n",
              "      <td>162009</td>\n",
              "      <td>Wired Headphones</td>\n",
              "      <td>2</td>\n",
              "      <td>11.99</td>\n",
              "      <td>03/28/19 20:59</td>\n",
              "      <td>942 Church St, Austin, TX 73301</td>\n",
              "      <td>03</td>\n",
              "    </tr>\n",
              "    <tr>\n",
              "      <th>3</th>\n",
              "      <td>162010</td>\n",
              "      <td>Bose SoundSport Headphones</td>\n",
              "      <td>1</td>\n",
              "      <td>99.99</td>\n",
              "      <td>03/17/19 05:39</td>\n",
              "      <td>261 10th St, San Francisco, CA 94016</td>\n",
              "      <td>03</td>\n",
              "    </tr>\n",
              "    <tr>\n",
              "      <th>4</th>\n",
              "      <td>162011</td>\n",
              "      <td>34in Ultrawide Monitor</td>\n",
              "      <td>1</td>\n",
              "      <td>379.99</td>\n",
              "      <td>03/10/19 00:01</td>\n",
              "      <td>764 13th St, San Francisco, CA 94016</td>\n",
              "      <td>03</td>\n",
              "    </tr>\n",
              "  </tbody>\n",
              "</table>\n",
              "</div>\n",
              "      <button class=\"colab-df-convert\" onclick=\"convertToInteractive('df-fa1c69f5-cc23-40f0-8e8f-b6d76e5238a7')\"\n",
              "              title=\"Convert this dataframe to an interactive table.\"\n",
              "              style=\"display:none;\">\n",
              "        \n",
              "  <svg xmlns=\"http://www.w3.org/2000/svg\" height=\"24px\"viewBox=\"0 0 24 24\"\n",
              "       width=\"24px\">\n",
              "    <path d=\"M0 0h24v24H0V0z\" fill=\"none\"/>\n",
              "    <path d=\"M18.56 5.44l.94 2.06.94-2.06 2.06-.94-2.06-.94-.94-2.06-.94 2.06-2.06.94zm-11 1L8.5 8.5l.94-2.06 2.06-.94-2.06-.94L8.5 2.5l-.94 2.06-2.06.94zm10 10l.94 2.06.94-2.06 2.06-.94-2.06-.94-.94-2.06-.94 2.06-2.06.94z\"/><path d=\"M17.41 7.96l-1.37-1.37c-.4-.4-.92-.59-1.43-.59-.52 0-1.04.2-1.43.59L10.3 9.45l-7.72 7.72c-.78.78-.78 2.05 0 2.83L4 21.41c.39.39.9.59 1.41.59.51 0 1.02-.2 1.41-.59l7.78-7.78 2.81-2.81c.8-.78.8-2.07 0-2.86zM5.41 20L4 18.59l7.72-7.72 1.47 1.35L5.41 20z\"/>\n",
              "  </svg>\n",
              "      </button>\n",
              "      \n",
              "  <style>\n",
              "    .colab-df-container {\n",
              "      display:flex;\n",
              "      flex-wrap:wrap;\n",
              "      gap: 12px;\n",
              "    }\n",
              "\n",
              "    .colab-df-convert {\n",
              "      background-color: #E8F0FE;\n",
              "      border: none;\n",
              "      border-radius: 50%;\n",
              "      cursor: pointer;\n",
              "      display: none;\n",
              "      fill: #1967D2;\n",
              "      height: 32px;\n",
              "      padding: 0 0 0 0;\n",
              "      width: 32px;\n",
              "    }\n",
              "\n",
              "    .colab-df-convert:hover {\n",
              "      background-color: #E2EBFA;\n",
              "      box-shadow: 0px 1px 2px rgba(60, 64, 67, 0.3), 0px 1px 3px 1px rgba(60, 64, 67, 0.15);\n",
              "      fill: #174EA6;\n",
              "    }\n",
              "\n",
              "    [theme=dark] .colab-df-convert {\n",
              "      background-color: #3B4455;\n",
              "      fill: #D2E3FC;\n",
              "    }\n",
              "\n",
              "    [theme=dark] .colab-df-convert:hover {\n",
              "      background-color: #434B5C;\n",
              "      box-shadow: 0px 1px 3px 1px rgba(0, 0, 0, 0.15);\n",
              "      filter: drop-shadow(0px 1px 2px rgba(0, 0, 0, 0.3));\n",
              "      fill: #FFFFFF;\n",
              "    }\n",
              "  </style>\n",
              "\n",
              "      <script>\n",
              "        const buttonEl =\n",
              "          document.querySelector('#df-fa1c69f5-cc23-40f0-8e8f-b6d76e5238a7 button.colab-df-convert');\n",
              "        buttonEl.style.display =\n",
              "          google.colab.kernel.accessAllowed ? 'block' : 'none';\n",
              "\n",
              "        async function convertToInteractive(key) {\n",
              "          const element = document.querySelector('#df-fa1c69f5-cc23-40f0-8e8f-b6d76e5238a7');\n",
              "          const dataTable =\n",
              "            await google.colab.kernel.invokeFunction('convertToInteractive',\n",
              "                                                     [key], {});\n",
              "          if (!dataTable) return;\n",
              "\n",
              "          const docLinkHtml = 'Like what you see? Visit the ' +\n",
              "            '<a target=\"_blank\" href=https://colab.research.google.com/notebooks/data_table.ipynb>data table notebook</a>'\n",
              "            + ' to learn more about interactive tables.';\n",
              "          element.innerHTML = '';\n",
              "          dataTable['output_type'] = 'display_data';\n",
              "          await google.colab.output.renderOutput(dataTable, element);\n",
              "          const docLink = document.createElement('div');\n",
              "          docLink.innerHTML = docLinkHtml;\n",
              "          element.appendChild(docLink);\n",
              "        }\n",
              "      </script>\n",
              "    </div>\n",
              "  </div>\n",
              "  "
            ]
          },
          "metadata": {},
          "execution_count": 18
        }
      ]
    },
    {
      "cell_type": "code",
      "source": [
        "#now we try our conversion again.\n",
        "\n",
        "all_data['month']=all_data['month'].astype(int)"
      ],
      "metadata": {
        "id": "_9RNpbKP06EC"
      },
      "execution_count": 19,
      "outputs": []
    },
    {
      "cell_type": "code",
      "source": [
        "#Check the datatype again\n",
        "\n",
        "all_data.dtypes"
      ],
      "metadata": {
        "colab": {
          "base_uri": "https://localhost:8080/"
        },
        "id": "6Jlnq5Yo1LSf",
        "outputId": "5335dd63-19e5-4a06-a65f-4ae5d1870724"
      },
      "execution_count": 20,
      "outputs": [
        {
          "output_type": "execute_result",
          "data": {
            "text/plain": [
              "Order ID            object\n",
              "Product             object\n",
              "Quantity Ordered    object\n",
              "Price Each          object\n",
              "Order Date          object\n",
              "Purchase Address    object\n",
              "month                int64\n",
              "dtype: object"
            ]
          },
          "metadata": {},
          "execution_count": 20
        }
      ]
    },
    {
      "cell_type": "code",
      "source": [
        "#We also convert quantity ordered to int\n",
        "\n",
        "all_data['Quantity Ordered']=all_data['Quantity Ordered'].astype(int)\n",
        "\n",
        "#convert price to float(because price can be in decimal point)\n",
        "all_data['Price Each']=all_data['Price Each'].astype(float)"
      ],
      "metadata": {
        "id": "qpn2zgI_1RmT"
      },
      "execution_count": 21,
      "outputs": []
    },
    {
      "cell_type": "code",
      "source": [
        "#Checking data types again\n",
        "all_data.dtypes"
      ],
      "metadata": {
        "colab": {
          "base_uri": "https://localhost:8080/"
        },
        "id": "IlanXlbB2Bas",
        "outputId": "0f89d883-a9ea-4894-f2ae-d913304a282d"
      },
      "execution_count": 22,
      "outputs": [
        {
          "output_type": "execute_result",
          "data": {
            "text/plain": [
              "Order ID             object\n",
              "Product              object\n",
              "Quantity Ordered      int64\n",
              "Price Each          float64\n",
              "Order Date           object\n",
              "Purchase Address     object\n",
              "month                 int64\n",
              "dtype: object"
            ]
          },
          "metadata": {},
          "execution_count": 22
        }
      ]
    },
    {
      "cell_type": "code",
      "source": [
        "#Now we need to get sales, sales = Quantity*Price\n",
        "\n",
        "all_data['sales']=all_data['Quantity Ordered']*all_data['Price Each']"
      ],
      "metadata": {
        "id": "2vwQ5SZA2JM9"
      },
      "execution_count": 23,
      "outputs": []
    },
    {
      "cell_type": "code",
      "source": [
        "#Checking out the sales column\n",
        "\n",
        "all_data.head()"
      ],
      "metadata": {
        "colab": {
          "base_uri": "https://localhost:8080/",
          "height": 389
        },
        "id": "B7LhZbjt2iY7",
        "outputId": "c28a67e2-dd58-445e-fe5a-55d87c157092"
      },
      "execution_count": 24,
      "outputs": [
        {
          "output_type": "execute_result",
          "data": {
            "text/plain": [
              "  Order ID                     Product  Quantity Ordered  Price Each  \\\n",
              "0   162009                      iPhone                 1      700.00   \n",
              "1   162009    Lightning Charging Cable                 1       14.95   \n",
              "2   162009            Wired Headphones                 2       11.99   \n",
              "3   162010  Bose SoundSport Headphones                 1       99.99   \n",
              "4   162011      34in Ultrawide Monitor                 1      379.99   \n",
              "\n",
              "       Order Date                      Purchase Address  month   sales  \n",
              "0  03/28/19 20:59       942 Church St, Austin, TX 73301      3  700.00  \n",
              "1  03/28/19 20:59       942 Church St, Austin, TX 73301      3   14.95  \n",
              "2  03/28/19 20:59       942 Church St, Austin, TX 73301      3   23.98  \n",
              "3  03/17/19 05:39  261 10th St, San Francisco, CA 94016      3   99.99  \n",
              "4  03/10/19 00:01  764 13th St, San Francisco, CA 94016      3  379.99  "
            ],
            "text/html": [
              "\n",
              "  <div id=\"df-b367ceef-13e9-42ee-b756-b78b1f5d3359\">\n",
              "    <div class=\"colab-df-container\">\n",
              "      <div>\n",
              "<style scoped>\n",
              "    .dataframe tbody tr th:only-of-type {\n",
              "        vertical-align: middle;\n",
              "    }\n",
              "\n",
              "    .dataframe tbody tr th {\n",
              "        vertical-align: top;\n",
              "    }\n",
              "\n",
              "    .dataframe thead th {\n",
              "        text-align: right;\n",
              "    }\n",
              "</style>\n",
              "<table border=\"1\" class=\"dataframe\">\n",
              "  <thead>\n",
              "    <tr style=\"text-align: right;\">\n",
              "      <th></th>\n",
              "      <th>Order ID</th>\n",
              "      <th>Product</th>\n",
              "      <th>Quantity Ordered</th>\n",
              "      <th>Price Each</th>\n",
              "      <th>Order Date</th>\n",
              "      <th>Purchase Address</th>\n",
              "      <th>month</th>\n",
              "      <th>sales</th>\n",
              "    </tr>\n",
              "  </thead>\n",
              "  <tbody>\n",
              "    <tr>\n",
              "      <th>0</th>\n",
              "      <td>162009</td>\n",
              "      <td>iPhone</td>\n",
              "      <td>1</td>\n",
              "      <td>700.00</td>\n",
              "      <td>03/28/19 20:59</td>\n",
              "      <td>942 Church St, Austin, TX 73301</td>\n",
              "      <td>3</td>\n",
              "      <td>700.00</td>\n",
              "    </tr>\n",
              "    <tr>\n",
              "      <th>1</th>\n",
              "      <td>162009</td>\n",
              "      <td>Lightning Charging Cable</td>\n",
              "      <td>1</td>\n",
              "      <td>14.95</td>\n",
              "      <td>03/28/19 20:59</td>\n",
              "      <td>942 Church St, Austin, TX 73301</td>\n",
              "      <td>3</td>\n",
              "      <td>14.95</td>\n",
              "    </tr>\n",
              "    <tr>\n",
              "      <th>2</th>\n",
              "      <td>162009</td>\n",
              "      <td>Wired Headphones</td>\n",
              "      <td>2</td>\n",
              "      <td>11.99</td>\n",
              "      <td>03/28/19 20:59</td>\n",
              "      <td>942 Church St, Austin, TX 73301</td>\n",
              "      <td>3</td>\n",
              "      <td>23.98</td>\n",
              "    </tr>\n",
              "    <tr>\n",
              "      <th>3</th>\n",
              "      <td>162010</td>\n",
              "      <td>Bose SoundSport Headphones</td>\n",
              "      <td>1</td>\n",
              "      <td>99.99</td>\n",
              "      <td>03/17/19 05:39</td>\n",
              "      <td>261 10th St, San Francisco, CA 94016</td>\n",
              "      <td>3</td>\n",
              "      <td>99.99</td>\n",
              "    </tr>\n",
              "    <tr>\n",
              "      <th>4</th>\n",
              "      <td>162011</td>\n",
              "      <td>34in Ultrawide Monitor</td>\n",
              "      <td>1</td>\n",
              "      <td>379.99</td>\n",
              "      <td>03/10/19 00:01</td>\n",
              "      <td>764 13th St, San Francisco, CA 94016</td>\n",
              "      <td>3</td>\n",
              "      <td>379.99</td>\n",
              "    </tr>\n",
              "  </tbody>\n",
              "</table>\n",
              "</div>\n",
              "      <button class=\"colab-df-convert\" onclick=\"convertToInteractive('df-b367ceef-13e9-42ee-b756-b78b1f5d3359')\"\n",
              "              title=\"Convert this dataframe to an interactive table.\"\n",
              "              style=\"display:none;\">\n",
              "        \n",
              "  <svg xmlns=\"http://www.w3.org/2000/svg\" height=\"24px\"viewBox=\"0 0 24 24\"\n",
              "       width=\"24px\">\n",
              "    <path d=\"M0 0h24v24H0V0z\" fill=\"none\"/>\n",
              "    <path d=\"M18.56 5.44l.94 2.06.94-2.06 2.06-.94-2.06-.94-.94-2.06-.94 2.06-2.06.94zm-11 1L8.5 8.5l.94-2.06 2.06-.94-2.06-.94L8.5 2.5l-.94 2.06-2.06.94zm10 10l.94 2.06.94-2.06 2.06-.94-2.06-.94-.94-2.06-.94 2.06-2.06.94z\"/><path d=\"M17.41 7.96l-1.37-1.37c-.4-.4-.92-.59-1.43-.59-.52 0-1.04.2-1.43.59L10.3 9.45l-7.72 7.72c-.78.78-.78 2.05 0 2.83L4 21.41c.39.39.9.59 1.41.59.51 0 1.02-.2 1.41-.59l7.78-7.78 2.81-2.81c.8-.78.8-2.07 0-2.86zM5.41 20L4 18.59l7.72-7.72 1.47 1.35L5.41 20z\"/>\n",
              "  </svg>\n",
              "      </button>\n",
              "      \n",
              "  <style>\n",
              "    .colab-df-container {\n",
              "      display:flex;\n",
              "      flex-wrap:wrap;\n",
              "      gap: 12px;\n",
              "    }\n",
              "\n",
              "    .colab-df-convert {\n",
              "      background-color: #E8F0FE;\n",
              "      border: none;\n",
              "      border-radius: 50%;\n",
              "      cursor: pointer;\n",
              "      display: none;\n",
              "      fill: #1967D2;\n",
              "      height: 32px;\n",
              "      padding: 0 0 0 0;\n",
              "      width: 32px;\n",
              "    }\n",
              "\n",
              "    .colab-df-convert:hover {\n",
              "      background-color: #E2EBFA;\n",
              "      box-shadow: 0px 1px 2px rgba(60, 64, 67, 0.3), 0px 1px 3px 1px rgba(60, 64, 67, 0.15);\n",
              "      fill: #174EA6;\n",
              "    }\n",
              "\n",
              "    [theme=dark] .colab-df-convert {\n",
              "      background-color: #3B4455;\n",
              "      fill: #D2E3FC;\n",
              "    }\n",
              "\n",
              "    [theme=dark] .colab-df-convert:hover {\n",
              "      background-color: #434B5C;\n",
              "      box-shadow: 0px 1px 3px 1px rgba(0, 0, 0, 0.15);\n",
              "      filter: drop-shadow(0px 1px 2px rgba(0, 0, 0, 0.3));\n",
              "      fill: #FFFFFF;\n",
              "    }\n",
              "  </style>\n",
              "\n",
              "      <script>\n",
              "        const buttonEl =\n",
              "          document.querySelector('#df-b367ceef-13e9-42ee-b756-b78b1f5d3359 button.colab-df-convert');\n",
              "        buttonEl.style.display =\n",
              "          google.colab.kernel.accessAllowed ? 'block' : 'none';\n",
              "\n",
              "        async function convertToInteractive(key) {\n",
              "          const element = document.querySelector('#df-b367ceef-13e9-42ee-b756-b78b1f5d3359');\n",
              "          const dataTable =\n",
              "            await google.colab.kernel.invokeFunction('convertToInteractive',\n",
              "                                                     [key], {});\n",
              "          if (!dataTable) return;\n",
              "\n",
              "          const docLinkHtml = 'Like what you see? Visit the ' +\n",
              "            '<a target=\"_blank\" href=https://colab.research.google.com/notebooks/data_table.ipynb>data table notebook</a>'\n",
              "            + ' to learn more about interactive tables.';\n",
              "          element.innerHTML = '';\n",
              "          dataTable['output_type'] = 'display_data';\n",
              "          await google.colab.output.renderOutput(dataTable, element);\n",
              "          const docLink = document.createElement('div');\n",
              "          docLink.innerHTML = docLinkHtml;\n",
              "          element.appendChild(docLink);\n",
              "        }\n",
              "      </script>\n",
              "    </div>\n",
              "  </div>\n",
              "  "
            ]
          },
          "metadata": {},
          "execution_count": 24
        }
      ]
    },
    {
      "cell_type": "code",
      "source": [
        "#To get the amount of sales for each month, we use the group function\n",
        "\n",
        "monthly_sales=all_data.groupby('month')['sales'].sum()\n",
        "\n",
        "monthly_sales"
      ],
      "metadata": {
        "colab": {
          "base_uri": "https://localhost:8080/"
        },
        "id": "Ntk7kfpv2osA",
        "outputId": "75d20400-dd2f-434f-9498-d6b6befea285"
      },
      "execution_count": 25,
      "outputs": [
        {
          "output_type": "execute_result",
          "data": {
            "text/plain": [
              "month\n",
              "1     1822256.73\n",
              "2     2202022.42\n",
              "3     2807100.38\n",
              "4     3390670.24\n",
              "5     3152606.75\n",
              "6     2577802.26\n",
              "7     2647775.76\n",
              "8     2244467.88\n",
              "9     2097560.13\n",
              "10    3736726.88\n",
              "11    3199603.20\n",
              "12    4613443.34\n",
              "Name: sales, dtype: float64"
            ]
          },
          "metadata": {},
          "execution_count": 25
        }
      ]
    },
    {
      "cell_type": "code",
      "source": [
        "#Plotting the values\n",
        "\n",
        "months=range(1,13)\n",
        "plt.bar(months,monthly_sales)\n",
        "plt.xticks(months)\n",
        "plt.xlabel('Month')\n",
        "plt.ylabel('Sales in millionUSD')\n",
        "plt.title('The Best Month for Sales',size=15)\n",
        "\n",
        "plt.savefig('/content/drive/MyDrive/Colab Notebooks/Ecom data/Best_Month_of_Sales.png')\n",
        "plt.show()\n",
        "plt.close()"
      ],
      "metadata": {
        "colab": {
          "base_uri": "https://localhost:8080/",
          "height": 297
        },
        "id": "ge9D3ywn3sVB",
        "outputId": "ecede1c3-feab-4ecb-84c8-b785c22ab634"
      },
      "execution_count": 107,
      "outputs": [
        {
          "output_type": "display_data",
          "data": {
            "text/plain": [
              "<Figure size 432x288 with 1 Axes>"
            ],
            "image/png": "[encoded data removed]"
          },
          "metadata": {
            "needs_background": "light"
          }
        }
      ]
    },
    {
      "cell_type": "markdown",
      "source": [
        "From the above viz, it canbe seen that December has the most number of sales."
      ],
      "metadata": {
        "id": "smu0oI1E5cMC"
      }
    },
    {
      "cell_type": "markdown",
      "source": [
        "# Which city has the max order?"
      ],
      "metadata": {
        "id": "zxeUyGoK5UdC"
      }
    },
    {
      "cell_type": "code",
      "source": [
        "#We don't have any column name city, so we have to fetch city from the address column\n",
        "\n",
        "#We create a function for it\n",
        "\n",
        "def city(x):\n",
        "  return x.split(',')[1]"
      ],
      "metadata": {
        "id": "fP7V96hI4XJ6"
      },
      "execution_count": 29,
      "outputs": []
    },
    {
      "cell_type": "code",
      "source": [
        "#Applying the function\n",
        "\n",
        "all_data['city']=all_data['Purchase Address'].apply(city)"
      ],
      "metadata": {
        "id": "DaY7XHIO6mQP"
      },
      "execution_count": 30,
      "outputs": []
    },
    {
      "cell_type": "code",
      "source": [
        "#Checking our new variable\n",
        "\n",
        "all_data.head()"
      ],
      "metadata": {
        "colab": {
          "base_uri": "https://localhost:8080/",
          "height": 475
        },
        "id": "VhbdRjbz68bJ",
        "outputId": "63f1735a-6909-4b68-b11e-c5203dca7fdd"
      },
      "execution_count": 31,
      "outputs": [
        {
          "output_type": "execute_result",
          "data": {
            "text/plain": [
              "  Order ID                     Product  Quantity Ordered  Price Each  \\\n",
              "0   162009                      iPhone                 1      700.00   \n",
              "1   162009    Lightning Charging Cable                 1       14.95   \n",
              "2   162009            Wired Headphones                 2       11.99   \n",
              "3   162010  Bose SoundSport Headphones                 1       99.99   \n",
              "4   162011      34in Ultrawide Monitor                 1      379.99   \n",
              "\n",
              "       Order Date                      Purchase Address  month   sales  \\\n",
              "0  03/28/19 20:59       942 Church St, Austin, TX 73301      3  700.00   \n",
              "1  03/28/19 20:59       942 Church St, Austin, TX 73301      3   14.95   \n",
              "2  03/28/19 20:59       942 Church St, Austin, TX 73301      3   23.98   \n",
              "3  03/17/19 05:39  261 10th St, San Francisco, CA 94016      3   99.99   \n",
              "4  03/10/19 00:01  764 13th St, San Francisco, CA 94016      3  379.99   \n",
              "\n",
              "             city  \n",
              "0          Austin  \n",
              "1          Austin  \n",
              "2          Austin  \n",
              "3   San Francisco  \n",
              "4   San Francisco  "
            ],
            "text/html": [
              "\n",
              "  <div id=\"df-06d0efef-23b0-4afa-8ee3-fe94ea008570\">\n",
              "    <div class=\"colab-df-container\">\n",
              "      <div>\n",
              "<style scoped>\n",
              "    .dataframe tbody tr th:only-of-type {\n",
              "        vertical-align: middle;\n",
              "    }\n",
              "\n",
              "    .dataframe tbody tr th {\n",
              "        vertical-align: top;\n",
              "    }\n",
              "\n",
              "    .dataframe thead th {\n",
              "        text-align: right;\n",
              "    }\n",
              "</style>\n",
              "<table border=\"1\" class=\"dataframe\">\n",
              "  <thead>\n",
              "    <tr style=\"text-align: right;\">\n",
              "      <th></th>\n",
              "      <th>Order ID</th>\n",
              "      <th>Product</th>\n",
              "      <th>Quantity Ordered</th>\n",
              "      <th>Price Each</th>\n",
              "      <th>Order Date</th>\n",
              "      <th>Purchase Address</th>\n",
              "      <th>month</th>\n",
              "      <th>sales</th>\n",
              "      <th>city</th>\n",
              "    </tr>\n",
              "  </thead>\n",
              "  <tbody>\n",
              "    <tr>\n",
              "      <th>0</th>\n",
              "      <td>162009</td>\n",
              "      <td>iPhone</td>\n",
              "      <td>1</td>\n",
              "      <td>700.00</td>\n",
              "      <td>03/28/19 20:59</td>\n",
              "      <td>942 Church St, Austin, TX 73301</td>\n",
              "      <td>3</td>\n",
              "      <td>700.00</td>\n",
              "      <td>Austin</td>\n",
              "    </tr>\n",
              "    <tr>\n",
              "      <th>1</th>\n",
              "      <td>162009</td>\n",
              "      <td>Lightning Charging Cable</td>\n",
              "      <td>1</td>\n",
              "      <td>14.95</td>\n",
              "      <td>03/28/19 20:59</td>\n",
              "      <td>942 Church St, Austin, TX 73301</td>\n",
              "      <td>3</td>\n",
              "      <td>14.95</td>\n",
              "      <td>Austin</td>\n",
              "    </tr>\n",
              "    <tr>\n",
              "      <th>2</th>\n",
              "      <td>162009</td>\n",
              "      <td>Wired Headphones</td>\n",
              "      <td>2</td>\n",
              "      <td>11.99</td>\n",
              "      <td>03/28/19 20:59</td>\n",
              "      <td>942 Church St, Austin, TX 73301</td>\n",
              "      <td>3</td>\n",
              "      <td>23.98</td>\n",
              "      <td>Austin</td>\n",
              "    </tr>\n",
              "    <tr>\n",
              "      <th>3</th>\n",
              "      <td>162010</td>\n",
              "      <td>Bose SoundSport Headphones</td>\n",
              "      <td>1</td>\n",
              "      <td>99.99</td>\n",
              "      <td>03/17/19 05:39</td>\n",
              "      <td>261 10th St, San Francisco, CA 94016</td>\n",
              "      <td>3</td>\n",
              "      <td>99.99</td>\n",
              "      <td>San Francisco</td>\n",
              "    </tr>\n",
              "    <tr>\n",
              "      <th>4</th>\n",
              "      <td>162011</td>\n",
              "      <td>34in Ultrawide Monitor</td>\n",
              "      <td>1</td>\n",
              "      <td>379.99</td>\n",
              "      <td>03/10/19 00:01</td>\n",
              "      <td>764 13th St, San Francisco, CA 94016</td>\n",
              "      <td>3</td>\n",
              "      <td>379.99</td>\n",
              "      <td>San Francisco</td>\n",
              "    </tr>\n",
              "  </tbody>\n",
              "</table>\n",
              "</div>\n",
              "      <button class=\"colab-df-convert\" onclick=\"convertToInteractive('df-06d0efef-23b0-4afa-8ee3-fe94ea008570')\"\n",
              "              title=\"Convert this dataframe to an interactive table.\"\n",
              "              style=\"display:none;\">\n",
              "        \n",
              "  <svg xmlns=\"http://www.w3.org/2000/svg\" height=\"24px\"viewBox=\"0 0 24 24\"\n",
              "       width=\"24px\">\n",
              "    <path d=\"M0 0h24v24H0V0z\" fill=\"none\"/>\n",
              "    <path d=\"M18.56 5.44l.94 2.06.94-2.06 2.06-.94-2.06-.94-.94-2.06-.94 2.06-2.06.94zm-11 1L8.5 8.5l.94-2.06 2.06-.94-2.06-.94L8.5 2.5l-.94 2.06-2.06.94zm10 10l.94 2.06.94-2.06 2.06-.94-2.06-.94-.94-2.06-.94 2.06-2.06.94z\"/><path d=\"M17.41 7.96l-1.37-1.37c-.4-.4-.92-.59-1.43-.59-.52 0-1.04.2-1.43.59L10.3 9.45l-7.72 7.72c-.78.78-.78 2.05 0 2.83L4 21.41c.39.39.9.59 1.41.59.51 0 1.02-.2 1.41-.59l7.78-7.78 2.81-2.81c.8-.78.8-2.07 0-2.86zM5.41 20L4 18.59l7.72-7.72 1.47 1.35L5.41 20z\"/>\n",
              "  </svg>\n",
              "      </button>\n",
              "      \n",
              "  <style>\n",
              "    .colab-df-container {\n",
              "      display:flex;\n",
              "      flex-wrap:wrap;\n",
              "      gap: 12px;\n",
              "    }\n",
              "\n",
              "    .colab-df-convert {\n",
              "      background-color: #E8F0FE;\n",
              "      border: none;\n",
              "      border-radius: 50%;\n",
              "      cursor: pointer;\n",
              "      display: none;\n",
              "      fill: #1967D2;\n",
              "      height: 32px;\n",
              "      padding: 0 0 0 0;\n",
              "      width: 32px;\n",
              "    }\n",
              "\n",
              "    .colab-df-convert:hover {\n",
              "      background-color: #E2EBFA;\n",
              "      box-shadow: 0px 1px 2px rgba(60, 64, 67, 0.3), 0px 1px 3px 1px rgba(60, 64, 67, 0.15);\n",
              "      fill: #174EA6;\n",
              "    }\n",
              "\n",
              "    [theme=dark] .colab-df-convert {\n",
              "      background-color: #3B4455;\n",
              "      fill: #D2E3FC;\n",
              "    }\n",
              "\n",
              "    [theme=dark] .colab-df-convert:hover {\n",
              "      background-color: #434B5C;\n",
              "      box-shadow: 0px 1px 3px 1px rgba(0, 0, 0, 0.15);\n",
              "      filter: drop-shadow(0px 1px 2px rgba(0, 0, 0, 0.3));\n",
              "      fill: #FFFFFF;\n",
              "    }\n",
              "  </style>\n",
              "\n",
              "      <script>\n",
              "        const buttonEl =\n",
              "          document.querySelector('#df-06d0efef-23b0-4afa-8ee3-fe94ea008570 button.colab-df-convert');\n",
              "        buttonEl.style.display =\n",
              "          google.colab.kernel.accessAllowed ? 'block' : 'none';\n",
              "\n",
              "        async function convertToInteractive(key) {\n",
              "          const element = document.querySelector('#df-06d0efef-23b0-4afa-8ee3-fe94ea008570');\n",
              "          const dataTable =\n",
              "            await google.colab.kernel.invokeFunction('convertToInteractive',\n",
              "                                                     [key], {});\n",
              "          if (!dataTable) return;\n",
              "\n",
              "          const docLinkHtml = 'Like what you see? Visit the ' +\n",
              "            '<a target=\"_blank\" href=https://colab.research.google.com/notebooks/data_table.ipynb>data table notebook</a>'\n",
              "            + ' to learn more about interactive tables.';\n",
              "          element.innerHTML = '';\n",
              "          dataTable['output_type'] = 'display_data';\n",
              "          await google.colab.output.renderOutput(dataTable, element);\n",
              "          const docLink = document.createElement('div');\n",
              "          docLink.innerHTML = docLinkHtml;\n",
              "          element.appendChild(docLink);\n",
              "        }\n",
              "      </script>\n",
              "    </div>\n",
              "  </div>\n",
              "  "
            ]
          },
          "metadata": {},
          "execution_count": 31
        }
      ]
    },
    {
      "cell_type": "code",
      "source": [
        "#Group and count by city\n",
        "\n",
        "count_city=all_data.groupby('city')['city'].count()\n",
        "count_city"
      ],
      "metadata": {
        "colab": {
          "base_uri": "https://localhost:8080/"
        },
        "id": "mn1YZrfm7Lm4",
        "outputId": "d80a32f1-d7ac-4fc0-8dbb-2bd02fdc3e5e"
      },
      "execution_count": 32,
      "outputs": [
        {
          "output_type": "execute_result",
          "data": {
            "text/plain": [
              "city\n",
              " Atlanta          14881\n",
              " Austin            9905\n",
              " Boston           19934\n",
              " Dallas           14820\n",
              " Los Angeles      29605\n",
              " New York City    24876\n",
              " Portland         12465\n",
              " San Francisco    44732\n",
              " Seattle          14732\n",
              "Name: city, dtype: int64"
            ]
          },
          "metadata": {},
          "execution_count": 32
        }
      ]
    },
    {
      "cell_type": "code",
      "source": [
        "#Ploting the count\n",
        "\n",
        "count_city.plot.bar()\n",
        "plt.ylabel('Amount Ordered')\n",
        "plt.title('City with the Max. No. of Orders', size=15)\n",
        "\n",
        "\n",
        "plt.savefig('/content/drive/MyDrive/Colab Notebooks/Ecom data/City_max_order.png')\n",
        "plt.show()\n",
        "plt.close()"
      ],
      "metadata": {
        "colab": {
          "base_uri": "https://localhost:8080/",
          "height": 359
        },
        "id": "gTcW7yKb7zTT",
        "outputId": "69801556-422f-4f79-feba-cf48ab580a68"
      },
      "execution_count": 106,
      "outputs": [
        {
          "output_type": "display_data",
          "data": {
            "text/plain": [
              "<Figure size 432x288 with 1 Axes>"
            ],
            "image/png": "[encoded data removed]"
          },
          "metadata": {
            "needs_background": "light"
          }
        }
      ]
    },
    {
      "cell_type": "markdown",
      "source": [
        "From the above viz, it can be seen that San Francisco has the maximum number of order"
      ],
      "metadata": {
        "id": "rP44CjDG8gjR"
      }
    },
    {
      "cell_type": "markdown",
      "source": [
        "## At What time was sales of product maximum?"
      ],
      "metadata": {
        "id": "0lLDBj9J9236"
      }
    },
    {
      "cell_type": "code",
      "source": [
        "#Checking the datatype of order date\n",
        "\n",
        "all_data['Order Date'].dtype"
      ],
      "metadata": {
        "colab": {
          "base_uri": "https://localhost:8080/"
        },
        "id": "tsCP3SNE8LKS",
        "outputId": "18ccad0b-638f-4b88-d5b6-a5e7f0e89f0e"
      },
      "execution_count": 35,
      "outputs": [
        {
          "output_type": "execute_result",
          "data": {
            "text/plain": [
              "dtype('O')"
            ]
          },
          "metadata": {},
          "execution_count": 35
        }
      ]
    },
    {
      "cell_type": "code",
      "source": [
        "#We have to convert it to data time and extract the hour\n",
        "\n",
        "all_data['Hour']=pd.to_datetime(all_data['Order Date']).dt.hour"
      ],
      "metadata": {
        "id": "wf-aI43t-lqR"
      },
      "execution_count": 36,
      "outputs": []
    },
    {
      "cell_type": "code",
      "source": [
        "all_data.head()"
      ],
      "metadata": {
        "colab": {
          "base_uri": "https://localhost:8080/",
          "height": 528
        },
        "id": "DG-3ylWk_oHL",
        "outputId": "34734ddc-0ce2-42ce-f052-9383701bf999"
      },
      "execution_count": 37,
      "outputs": [
        {
          "output_type": "execute_result",
          "data": {
            "text/plain": [
              "  Order ID                     Product  Quantity Ordered  Price Each  \\\n",
              "0   162009                      iPhone                 1      700.00   \n",
              "1   162009    Lightning Charging Cable                 1       14.95   \n",
              "2   162009            Wired Headphones                 2       11.99   \n",
              "3   162010  Bose SoundSport Headphones                 1       99.99   \n",
              "4   162011      34in Ultrawide Monitor                 1      379.99   \n",
              "\n",
              "       Order Date                      Purchase Address  month   sales  \\\n",
              "0  03/28/19 20:59       942 Church St, Austin, TX 73301      3  700.00   \n",
              "1  03/28/19 20:59       942 Church St, Austin, TX 73301      3   14.95   \n",
              "2  03/28/19 20:59       942 Church St, Austin, TX 73301      3   23.98   \n",
              "3  03/17/19 05:39  261 10th St, San Francisco, CA 94016      3   99.99   \n",
              "4  03/10/19 00:01  764 13th St, San Francisco, CA 94016      3  379.99   \n",
              "\n",
              "             city  Hour  \n",
              "0          Austin    20  \n",
              "1          Austin    20  \n",
              "2          Austin    20  \n",
              "3   San Francisco     5  \n",
              "4   San Francisco     0  "
            ],
            "text/html": [
              "\n",
              "  <div id=\"df-ce9cb35c-cff2-4b7e-811e-c351a63d1dd4\">\n",
              "    <div class=\"colab-df-container\">\n",
              "      <div>\n",
              "<style scoped>\n",
              "    .dataframe tbody tr th:only-of-type {\n",
              "        vertical-align: middle;\n",
              "    }\n",
              "\n",
              "    .dataframe tbody tr th {\n",
              "        vertical-align: top;\n",
              "    }\n",
              "\n",
              "    .dataframe thead th {\n",
              "        text-align: right;\n",
              "    }\n",
              "</style>\n",
              "<table border=\"1\" class=\"dataframe\">\n",
              "  <thead>\n",
              "    <tr style=\"text-align: right;\">\n",
              "      <th></th>\n",
              "      <th>Order ID</th>\n",
              "      <th>Product</th>\n",
              "      <th>Quantity Ordered</th>\n",
              "      <th>Price Each</th>\n",
              "      <th>Order Date</th>\n",
              "      <th>Purchase Address</th>\n",
              "      <th>month</th>\n",
              "      <th>sales</th>\n",
              "      <th>city</th>\n",
              "      <th>Hour</th>\n",
              "    </tr>\n",
              "  </thead>\n",
              "  <tbody>\n",
              "    <tr>\n",
              "      <th>0</th>\n",
              "      <td>162009</td>\n",
              "      <td>iPhone</td>\n",
              "      <td>1</td>\n",
              "      <td>700.00</td>\n",
              "      <td>03/28/19 20:59</td>\n",
              "      <td>942 Church St, Austin, TX 73301</td>\n",
              "      <td>3</td>\n",
              "      <td>700.00</td>\n",
              "      <td>Austin</td>\n",
              "      <td>20</td>\n",
              "    </tr>\n",
              "    <tr>\n",
              "      <th>1</th>\n",
              "      <td>162009</td>\n",
              "      <td>Lightning Charging Cable</td>\n",
              "      <td>1</td>\n",
              "      <td>14.95</td>\n",
              "      <td>03/28/19 20:59</td>\n",
              "      <td>942 Church St, Austin, TX 73301</td>\n",
              "      <td>3</td>\n",
              "      <td>14.95</td>\n",
              "      <td>Austin</td>\n",
              "      <td>20</td>\n",
              "    </tr>\n",
              "    <tr>\n",
              "      <th>2</th>\n",
              "      <td>162009</td>\n",
              "      <td>Wired Headphones</td>\n",
              "      <td>2</td>\n",
              "      <td>11.99</td>\n",
              "      <td>03/28/19 20:59</td>\n",
              "      <td>942 Church St, Austin, TX 73301</td>\n",
              "      <td>3</td>\n",
              "      <td>23.98</td>\n",
              "      <td>Austin</td>\n",
              "      <td>20</td>\n",
              "    </tr>\n",
              "    <tr>\n",
              "      <th>3</th>\n",
              "      <td>162010</td>\n",
              "      <td>Bose SoundSport Headphones</td>\n",
              "      <td>1</td>\n",
              "      <td>99.99</td>\n",
              "      <td>03/17/19 05:39</td>\n",
              "      <td>261 10th St, San Francisco, CA 94016</td>\n",
              "      <td>3</td>\n",
              "      <td>99.99</td>\n",
              "      <td>San Francisco</td>\n",
              "      <td>5</td>\n",
              "    </tr>\n",
              "    <tr>\n",
              "      <th>4</th>\n",
              "      <td>162011</td>\n",
              "      <td>34in Ultrawide Monitor</td>\n",
              "      <td>1</td>\n",
              "      <td>379.99</td>\n",
              "      <td>03/10/19 00:01</td>\n",
              "      <td>764 13th St, San Francisco, CA 94016</td>\n",
              "      <td>3</td>\n",
              "      <td>379.99</td>\n",
              "      <td>San Francisco</td>\n",
              "      <td>0</td>\n",
              "    </tr>\n",
              "  </tbody>\n",
              "</table>\n",
              "</div>\n",
              "      <button class=\"colab-df-convert\" onclick=\"convertToInteractive('df-ce9cb35c-cff2-4b7e-811e-c351a63d1dd4')\"\n",
              "              title=\"Convert this dataframe to an interactive table.\"\n",
              "              style=\"display:none;\">\n",
              "        \n",
              "  <svg xmlns=\"http://www.w3.org/2000/svg\" height=\"24px\"viewBox=\"0 0 24 24\"\n",
              "       width=\"24px\">\n",
              "    <path d=\"M0 0h24v24H0V0z\" fill=\"none\"/>\n",
              "    <path d=\"M18.56 5.44l.94 2.06.94-2.06 2.06-.94-2.06-.94-.94-2.06-.94 2.06-2.06.94zm-11 1L8.5 8.5l.94-2.06 2.06-.94-2.06-.94L8.5 2.5l-.94 2.06-2.06.94zm10 10l.94 2.06.94-2.06 2.06-.94-2.06-.94-.94-2.06-.94 2.06-2.06.94z\"/><path d=\"M17.41 7.96l-1.37-1.37c-.4-.4-.92-.59-1.43-.59-.52 0-1.04.2-1.43.59L10.3 9.45l-7.72 7.72c-.78.78-.78 2.05 0 2.83L4 21.41c.39.39.9.59 1.41.59.51 0 1.02-.2 1.41-.59l7.78-7.78 2.81-2.81c.8-.78.8-2.07 0-2.86zM5.41 20L4 18.59l7.72-7.72 1.47 1.35L5.41 20z\"/>\n",
              "  </svg>\n",
              "      </button>\n",
              "      \n",
              "  <style>\n",
              "    .colab-df-container {\n",
              "      display:flex;\n",
              "      flex-wrap:wrap;\n",
              "      gap: 12px;\n",
              "    }\n",
              "\n",
              "    .colab-df-convert {\n",
              "      background-color: #E8F0FE;\n",
              "      border: none;\n",
              "      border-radius: 50%;\n",
              "      cursor: pointer;\n",
              "      display: none;\n",
              "      fill: #1967D2;\n",
              "      height: 32px;\n",
              "      padding: 0 0 0 0;\n",
              "      width: 32px;\n",
              "    }\n",
              "\n",
              "    .colab-df-convert:hover {\n",
              "      background-color: #E2EBFA;\n",
              "      box-shadow: 0px 1px 2px rgba(60, 64, 67, 0.3), 0px 1px 3px 1px rgba(60, 64, 67, 0.15);\n",
              "      fill: #174EA6;\n",
              "    }\n",
              "\n",
              "    [theme=dark] .colab-df-convert {\n",
              "      background-color: #3B4455;\n",
              "      fill: #D2E3FC;\n",
              "    }\n",
              "\n",
              "    [theme=dark] .colab-df-convert:hover {\n",
              "      background-color: #434B5C;\n",
              "      box-shadow: 0px 1px 3px 1px rgba(0, 0, 0, 0.15);\n",
              "      filter: drop-shadow(0px 1px 2px rgba(0, 0, 0, 0.3));\n",
              "      fill: #FFFFFF;\n",
              "    }\n",
              "  </style>\n",
              "\n",
              "      <script>\n",
              "        const buttonEl =\n",
              "          document.querySelector('#df-ce9cb35c-cff2-4b7e-811e-c351a63d1dd4 button.colab-df-convert');\n",
              "        buttonEl.style.display =\n",
              "          google.colab.kernel.accessAllowed ? 'block' : 'none';\n",
              "\n",
              "        async function convertToInteractive(key) {\n",
              "          const element = document.querySelector('#df-ce9cb35c-cff2-4b7e-811e-c351a63d1dd4');\n",
              "          const dataTable =\n",
              "            await google.colab.kernel.invokeFunction('convertToInteractive',\n",
              "                                                     [key], {});\n",
              "          if (!dataTable) return;\n",
              "\n",
              "          const docLinkHtml = 'Like what you see? Visit the ' +\n",
              "            '<a target=\"_blank\" href=https://colab.research.google.com/notebooks/data_table.ipynb>data table notebook</a>'\n",
              "            + ' to learn more about interactive tables.';\n",
              "          element.innerHTML = '';\n",
              "          dataTable['output_type'] = 'display_data';\n",
              "          await google.colab.output.renderOutput(dataTable, element);\n",
              "          const docLink = document.createElement('div');\n",
              "          docLink.innerHTML = docLinkHtml;\n",
              "          element.appendChild(docLink);\n",
              "        }\n",
              "      </script>\n",
              "    </div>\n",
              "  </div>\n",
              "  "
            ]
          },
          "metadata": {},
          "execution_count": 37
        }
      ]
    },
    {
      "cell_type": "code",
      "source": [
        "#Buid an iterator to bring out the needed parameters\n",
        "\n",
        "keys=[]\n",
        "hour=[]\n",
        "\n",
        "for key,hour_df in all_data.groupby('Hour'):\n",
        "  keys.append(key)\n",
        "  hour.append(len(hour_df))"
      ],
      "metadata": {
        "id": "9w5anPxm_1dq"
      },
      "execution_count": 38,
      "outputs": []
    },
    {
      "cell_type": "code",
      "source": [
        "keys"
      ],
      "metadata": {
        "colab": {
          "base_uri": "https://localhost:8080/"
        },
        "id": "OwwTqxviA0mq",
        "outputId": "189fec08-1c77-4b35-f777-d5a597c478c1"
      },
      "execution_count": 39,
      "outputs": [
        {
          "output_type": "execute_result",
          "data": {
            "text/plain": [
              "[0,\n",
              " 1,\n",
              " 2,\n",
              " 3,\n",
              " 4,\n",
              " 5,\n",
              " 6,\n",
              " 7,\n",
              " 8,\n",
              " 9,\n",
              " 10,\n",
              " 11,\n",
              " 12,\n",
              " 13,\n",
              " 14,\n",
              " 15,\n",
              " 16,\n",
              " 17,\n",
              " 18,\n",
              " 19,\n",
              " 20,\n",
              " 21,\n",
              " 22,\n",
              " 23]"
            ]
          },
          "metadata": {},
          "execution_count": 39
        }
      ]
    },
    {
      "cell_type": "code",
      "source": [
        "#hour containts the amount of sales for a particular hour\n",
        "\n",
        "hour"
      ],
      "metadata": {
        "colab": {
          "base_uri": "https://localhost:8080/"
        },
        "id": "2VHWpL2oA2SB",
        "outputId": "ac033c5b-baf0-4056-a3ef-3d5680e57808"
      },
      "execution_count": 40,
      "outputs": [
        {
          "output_type": "execute_result",
          "data": {
            "text/plain": [
              "[3910,\n",
              " 2350,\n",
              " 1243,\n",
              " 831,\n",
              " 854,\n",
              " 1321,\n",
              " 2482,\n",
              " 4011,\n",
              " 6256,\n",
              " 8748,\n",
              " 10944,\n",
              " 12411,\n",
              " 12587,\n",
              " 12129,\n",
              " 10984,\n",
              " 10175,\n",
              " 10384,\n",
              " 10899,\n",
              " 12280,\n",
              " 12905,\n",
              " 12228,\n",
              " 10921,\n",
              " 8822,\n",
              " 6275]"
            ]
          },
          "metadata": {},
          "execution_count": 40
        }
      ]
    },
    {
      "cell_type": "code",
      "source": [
        "#Plot the values of the variables\n",
        "\n",
        "plt.grid()\n",
        "\n",
        "plt.plot(keys,hour)\n",
        "\n",
        "plt.xlabel('hour')\n",
        "plt.ylabel('Amount of Sales')\n",
        "plt.xticks(keys)\n",
        "\n",
        "plt.title('Time when sales of Product is Max.', size=15)\n",
        "\n",
        "\n",
        "plt.savefig('/content/drive/MyDrive/Colab Notebooks/Ecom data/Peak_period.png')\n",
        "plt.show()\n",
        "plt.close()"
      ],
      "metadata": {
        "colab": {
          "base_uri": "https://localhost:8080/",
          "height": 297
        },
        "id": "EDfy5QcLBGAP",
        "outputId": "def43481-40fc-4934-be51-2a3bfee66b77"
      },
      "execution_count": 105,
      "outputs": [
        {
          "output_type": "display_data",
          "data": {
            "text/plain": [
              "<Figure size 432x288 with 1 Axes>"
            ],
            "image/png": "[encoded data removed]"
          },
          "metadata": {
            "needs_background": "light"
          }
        }
      ]
    },
    {
      "cell_type": "markdown",
      "source": [
        "From the above viz, it is seen that 12pm and 7pm are the peak period."
      ],
      "metadata": {
        "id": "tOHMTlsPBeJW"
      }
    },
    {
      "cell_type": "markdown",
      "source": [
        "## What product sold the most and why?"
      ],
      "metadata": {
        "id": "qDBTdDMlFwe4"
      }
    },
    {
      "cell_type": "code",
      "source": [
        "#We have to group by product\n",
        "\n",
        "product_sold=all_data.groupby('Product')['Quantity Ordered'].sum()\n",
        "\n",
        "product_sold"
      ],
      "metadata": {
        "colab": {
          "base_uri": "https://localhost:8080/"
        },
        "id": "kiGbnqHTGDaO",
        "outputId": "ed1c3773-a710-4371-e987-721b43b5a57e"
      },
      "execution_count": 46,
      "outputs": [
        {
          "output_type": "execute_result",
          "data": {
            "text/plain": [
              "Product\n",
              "20in Monitor                   4129\n",
              "27in 4K Gaming Monitor         6244\n",
              "27in FHD Monitor               7550\n",
              "34in Ultrawide Monitor         6199\n",
              "AA Batteries (4-pack)         27635\n",
              "AAA Batteries (4-pack)        31017\n",
              "Apple Airpods Headphones      15661\n",
              "Bose SoundSport Headphones    13457\n",
              "Flatscreen TV                  4819\n",
              "Google Phone                   5532\n",
              "LG Dryer                        646\n",
              "LG Washing Machine              666\n",
              "Lightning Charging Cable      23217\n",
              "Macbook Pro Laptop             4728\n",
              "ThinkPad Laptop                4130\n",
              "USB-C Charging Cable          23975\n",
              "Vareebadd Phone                2068\n",
              "Wired Headphones              20557\n",
              "iPhone                         6849\n",
              "Name: Quantity Ordered, dtype: int64"
            ]
          },
          "metadata": {},
          "execution_count": 46
        }
      ]
    },
    {
      "cell_type": "code",
      "source": [
        "#plotting the result\n",
        "product_sold.plot(kind='bar')\n",
        "\n",
        "plt.ylabel('Amount of Product Sold')\n",
        "plt.title('Most Sold Product.', size=18)\n",
        "\n",
        "plt.savefig('/content/drive/MyDrive/Colab Notebooks/Ecom data/Most_sold_prod.png')\n",
        "plt.show()\n",
        "plt.close()"
      ],
      "metadata": {
        "colab": {
          "base_uri": "https://localhost:8080/",
          "height": 440
        },
        "id": "UrV2XWiZGl30",
        "outputId": "72e99d70-a8f1-4665-955c-978324d3ffe4"
      },
      "execution_count": 104,
      "outputs": [
        {
          "output_type": "display_data",
          "data": {
            "text/plain": [
              "<Figure size 432x288 with 1 Axes>"
            ],
            "image/png": "[encoded data removed]"
          },
          "metadata": {
            "needs_background": "light"
          }
        }
      ]
    },
    {
      "cell_type": "markdown",
      "source": [
        "From the above viz, AAA Batteries(4-pack) is the most sold product"
      ],
      "metadata": {
        "id": "j5S7xuRKHBrX"
      }
    },
    {
      "cell_type": "code",
      "source": [
        "#To know why the product is the most sold, we need to know what is the average price of each product.\n",
        "\n",
        "avg_price = all_data.groupby('Product')['Price Each'].mean()\n",
        "\n",
        "avg_price"
      ],
      "metadata": {
        "colab": {
          "base_uri": "https://localhost:8080/"
        },
        "id": "PAamSJgDHgRo",
        "outputId": "a335b730-296d-446c-a84c-0d4f7487b045"
      },
      "execution_count": 51,
      "outputs": [
        {
          "output_type": "execute_result",
          "data": {
            "text/plain": [
              "Product\n",
              "20in Monitor                   109.99\n",
              "27in 4K Gaming Monitor         389.99\n",
              "27in FHD Monitor               149.99\n",
              "34in Ultrawide Monitor         379.99\n",
              "AA Batteries (4-pack)            3.84\n",
              "AAA Batteries (4-pack)           2.99\n",
              "Apple Airpods Headphones       150.00\n",
              "Bose SoundSport Headphones      99.99\n",
              "Flatscreen TV                  300.00\n",
              "Google Phone                   600.00\n",
              "LG Dryer                       600.00\n",
              "LG Washing Machine             600.00\n",
              "Lightning Charging Cable        14.95\n",
              "Macbook Pro Laptop            1700.00\n",
              "ThinkPad Laptop                999.99\n",
              "USB-C Charging Cable            11.95\n",
              "Vareebadd Phone                400.00\n",
              "Wired Headphones                11.99\n",
              "iPhone                         700.00\n",
              "Name: Price Each, dtype: float64"
            ]
          },
          "metadata": {},
          "execution_count": 51
        }
      ]
    },
    {
      "cell_type": "code",
      "source": [
        "#Plotting the values\n",
        "\n",
        "#returning the index of the product sold\n",
        "prod_index=product_sold.index\n"
      ],
      "metadata": {
        "id": "m8s43igcIv4P"
      },
      "execution_count": 52,
      "outputs": []
    },
    {
      "cell_type": "code",
      "source": [
        "#Using subplots()\n",
        "\n",
        "fig, ax1=plt.subplots()\n",
        "ax2=ax1.twinx() \n",
        "\n",
        "# Plot data on the first subplot\n",
        "ax1.bar(prod_index,product_sold,color='g',label='Amnt Sold')\n",
        "\n",
        "# Plot data on the second subplot\n",
        "ax2.plot(prod_index,avg_price,color='orange',label='Price')\n",
        "\n",
        "#Setting the xticks\n",
        "ax1.set_xticklabels(prod_index,rotation='vertical',size=8)\n",
        "\n",
        "# Setting the plot label\n",
        "ax1.set_ylabel('Amount Sold')\n",
        "ax1.set_xlabel('Product')\n",
        "ax2.set_ylabel('Price')\n",
        "\n",
        "# Adding a double legend to the right of the plot\n",
        "fig.legend(\n",
        "    loc='upper right',\n",
        "    bbox_to_anchor=(1.25,1.0)\n",
        ")\n",
        "\n",
        "# Adding tittle\n",
        "fig.suptitle('Relationship between Price and Amount Ordered',size=15)\n",
        "\n",
        "plt.savefig('/content/drive/MyDrive/Colab Notebooks/Ecom data/Amount_sold_vs_Price.png',bbox_inches='tight')\n",
        "plt.show()\n",
        "plt.close()"
      ],
      "metadata": {
        "colab": {
          "base_uri": "https://localhost:8080/",
          "height": 421
        },
        "id": "7NwZFDIbJVKB",
        "outputId": "595b6a20-7248-44a2-91f3-5e0f377a88f9"
      },
      "execution_count": 103,
      "outputs": [
        {
          "output_type": "display_data",
          "data": {
            "text/plain": [
              "<Figure size 432x288 with 2 Axes>"
            ],
            "image/png": "[encoded data removed]"
          },
          "metadata": {
            "needs_background": "light"
          }
        }
      ]
    },
    {
      "cell_type": "markdown",
      "source": [
        "From the above viz, we can see that their seems to be a correllation between quantity ordered and the price of the product. We can see product with high price and has low quantity order."
      ],
      "metadata": {
        "id": "_fhL6-e8KxuE"
      }
    },
    {
      "cell_type": "markdown",
      "source": [
        "## What products are most often sold together?"
      ],
      "metadata": {
        "id": "wqBIfcx2F5kM"
      }
    },
    {
      "cell_type": "code",
      "source": [
        "all_data.head()"
      ],
      "metadata": {
        "colab": {
          "base_uri": "https://localhost:8080/",
          "height": 528
        },
        "id": "ZbJkjzfvMxQ8",
        "outputId": "f5287a7f-b26d-444c-b1e9-1d4001d03653"
      },
      "execution_count": 77,
      "outputs": [
        {
          "output_type": "execute_result",
          "data": {
            "text/plain": [
              "  Order ID                     Product  Quantity Ordered  Price Each  \\\n",
              "0   162009                      iPhone                 1      700.00   \n",
              "1   162009    Lightning Charging Cable                 1       14.95   \n",
              "2   162009            Wired Headphones                 2       11.99   \n",
              "3   162010  Bose SoundSport Headphones                 1       99.99   \n",
              "4   162011      34in Ultrawide Monitor                 1      379.99   \n",
              "\n",
              "       Order Date                      Purchase Address  month   sales  \\\n",
              "0  03/28/19 20:59       942 Church St, Austin, TX 73301      3  700.00   \n",
              "1  03/28/19 20:59       942 Church St, Austin, TX 73301      3   14.95   \n",
              "2  03/28/19 20:59       942 Church St, Austin, TX 73301      3   23.98   \n",
              "3  03/17/19 05:39  261 10th St, San Francisco, CA 94016      3   99.99   \n",
              "4  03/10/19 00:01  764 13th St, San Francisco, CA 94016      3  379.99   \n",
              "\n",
              "             city  Hour  \n",
              "0          Austin    20  \n",
              "1          Austin    20  \n",
              "2          Austin    20  \n",
              "3   San Francisco     5  \n",
              "4   San Francisco     0  "
            ],
            "text/html": [
              "\n",
              "  <div id=\"df-bd86eb4f-fe43-4a4c-b8d9-834cf2388f58\">\n",
              "    <div class=\"colab-df-container\">\n",
              "      <div>\n",
              "<style scoped>\n",
              "    .dataframe tbody tr th:only-of-type {\n",
              "        vertical-align: middle;\n",
              "    }\n",
              "\n",
              "    .dataframe tbody tr th {\n",
              "        vertical-align: top;\n",
              "    }\n",
              "\n",
              "    .dataframe thead th {\n",
              "        text-align: right;\n",
              "    }\n",
              "</style>\n",
              "<table border=\"1\" class=\"dataframe\">\n",
              "  <thead>\n",
              "    <tr style=\"text-align: right;\">\n",
              "      <th></th>\n",
              "      <th>Order ID</th>\n",
              "      <th>Product</th>\n",
              "      <th>Quantity Ordered</th>\n",
              "      <th>Price Each</th>\n",
              "      <th>Order Date</th>\n",
              "      <th>Purchase Address</th>\n",
              "      <th>month</th>\n",
              "      <th>sales</th>\n",
              "      <th>city</th>\n",
              "      <th>Hour</th>\n",
              "    </tr>\n",
              "  </thead>\n",
              "  <tbody>\n",
              "    <tr>\n",
              "      <th>0</th>\n",
              "      <td>162009</td>\n",
              "      <td>iPhone</td>\n",
              "      <td>1</td>\n",
              "      <td>700.00</td>\n",
              "      <td>03/28/19 20:59</td>\n",
              "      <td>942 Church St, Austin, TX 73301</td>\n",
              "      <td>3</td>\n",
              "      <td>700.00</td>\n",
              "      <td>Austin</td>\n",
              "      <td>20</td>\n",
              "    </tr>\n",
              "    <tr>\n",
              "      <th>1</th>\n",
              "      <td>162009</td>\n",
              "      <td>Lightning Charging Cable</td>\n",
              "      <td>1</td>\n",
              "      <td>14.95</td>\n",
              "      <td>03/28/19 20:59</td>\n",
              "      <td>942 Church St, Austin, TX 73301</td>\n",
              "      <td>3</td>\n",
              "      <td>14.95</td>\n",
              "      <td>Austin</td>\n",
              "      <td>20</td>\n",
              "    </tr>\n",
              "    <tr>\n",
              "      <th>2</th>\n",
              "      <td>162009</td>\n",
              "      <td>Wired Headphones</td>\n",
              "      <td>2</td>\n",
              "      <td>11.99</td>\n",
              "      <td>03/28/19 20:59</td>\n",
              "      <td>942 Church St, Austin, TX 73301</td>\n",
              "      <td>3</td>\n",
              "      <td>23.98</td>\n",
              "      <td>Austin</td>\n",
              "      <td>20</td>\n",
              "    </tr>\n",
              "    <tr>\n",
              "      <th>3</th>\n",
              "      <td>162010</td>\n",
              "      <td>Bose SoundSport Headphones</td>\n",
              "      <td>1</td>\n",
              "      <td>99.99</td>\n",
              "      <td>03/17/19 05:39</td>\n",
              "      <td>261 10th St, San Francisco, CA 94016</td>\n",
              "      <td>3</td>\n",
              "      <td>99.99</td>\n",
              "      <td>San Francisco</td>\n",
              "      <td>5</td>\n",
              "    </tr>\n",
              "    <tr>\n",
              "      <th>4</th>\n",
              "      <td>162011</td>\n",
              "      <td>34in Ultrawide Monitor</td>\n",
              "      <td>1</td>\n",
              "      <td>379.99</td>\n",
              "      <td>03/10/19 00:01</td>\n",
              "      <td>764 13th St, San Francisco, CA 94016</td>\n",
              "      <td>3</td>\n",
              "      <td>379.99</td>\n",
              "      <td>San Francisco</td>\n",
              "      <td>0</td>\n",
              "    </tr>\n",
              "  </tbody>\n",
              "</table>\n",
              "</div>\n",
              "      <button class=\"colab-df-convert\" onclick=\"convertToInteractive('df-bd86eb4f-fe43-4a4c-b8d9-834cf2388f58')\"\n",
              "              title=\"Convert this dataframe to an interactive table.\"\n",
              "              style=\"display:none;\">\n",
              "        \n",
              "  <svg xmlns=\"http://www.w3.org/2000/svg\" height=\"24px\"viewBox=\"0 0 24 24\"\n",
              "       width=\"24px\">\n",
              "    <path d=\"M0 0h24v24H0V0z\" fill=\"none\"/>\n",
              "    <path d=\"M18.56 5.44l.94 2.06.94-2.06 2.06-.94-2.06-.94-.94-2.06-.94 2.06-2.06.94zm-11 1L8.5 8.5l.94-2.06 2.06-.94-2.06-.94L8.5 2.5l-.94 2.06-2.06.94zm10 10l.94 2.06.94-2.06 2.06-.94-2.06-.94-.94-2.06-.94 2.06-2.06.94z\"/><path d=\"M17.41 7.96l-1.37-1.37c-.4-.4-.92-.59-1.43-.59-.52 0-1.04.2-1.43.59L10.3 9.45l-7.72 7.72c-.78.78-.78 2.05 0 2.83L4 21.41c.39.39.9.59 1.41.59.51 0 1.02-.2 1.41-.59l7.78-7.78 2.81-2.81c.8-.78.8-2.07 0-2.86zM5.41 20L4 18.59l7.72-7.72 1.47 1.35L5.41 20z\"/>\n",
              "  </svg>\n",
              "      </button>\n",
              "      \n",
              "  <style>\n",
              "    .colab-df-container {\n",
              "      display:flex;\n",
              "      flex-wrap:wrap;\n",
              "      gap: 12px;\n",
              "    }\n",
              "\n",
              "    .colab-df-convert {\n",
              "      background-color: #E8F0FE;\n",
              "      border: none;\n",
              "      border-radius: 50%;\n",
              "      cursor: pointer;\n",
              "      display: none;\n",
              "      fill: #1967D2;\n",
              "      height: 32px;\n",
              "      padding: 0 0 0 0;\n",
              "      width: 32px;\n",
              "    }\n",
              "\n",
              "    .colab-df-convert:hover {\n",
              "      background-color: #E2EBFA;\n",
              "      box-shadow: 0px 1px 2px rgba(60, 64, 67, 0.3), 0px 1px 3px 1px rgba(60, 64, 67, 0.15);\n",
              "      fill: #174EA6;\n",
              "    }\n",
              "\n",
              "    [theme=dark] .colab-df-convert {\n",
              "      background-color: #3B4455;\n",
              "      fill: #D2E3FC;\n",
              "    }\n",
              "\n",
              "    [theme=dark] .colab-df-convert:hover {\n",
              "      background-color: #434B5C;\n",
              "      box-shadow: 0px 1px 3px 1px rgba(0, 0, 0, 0.15);\n",
              "      filter: drop-shadow(0px 1px 2px rgba(0, 0, 0, 0.3));\n",
              "      fill: #FFFFFF;\n",
              "    }\n",
              "  </style>\n",
              "\n",
              "      <script>\n",
              "        const buttonEl =\n",
              "          document.querySelector('#df-bd86eb4f-fe43-4a4c-b8d9-834cf2388f58 button.colab-df-convert');\n",
              "        buttonEl.style.display =\n",
              "          google.colab.kernel.accessAllowed ? 'block' : 'none';\n",
              "\n",
              "        async function convertToInteractive(key) {\n",
              "          const element = document.querySelector('#df-bd86eb4f-fe43-4a4c-b8d9-834cf2388f58');\n",
              "          const dataTable =\n",
              "            await google.colab.kernel.invokeFunction('convertToInteractive',\n",
              "                                                     [key], {});\n",
              "          if (!dataTable) return;\n",
              "\n",
              "          const docLinkHtml = 'Like what you see? Visit the ' +\n",
              "            '<a target=\"_blank\" href=https://colab.research.google.com/notebooks/data_table.ipynb>data table notebook</a>'\n",
              "            + ' to learn more about interactive tables.';\n",
              "          element.innerHTML = '';\n",
              "          dataTable['output_type'] = 'display_data';\n",
              "          await google.colab.output.renderOutput(dataTable, element);\n",
              "          const docLink = document.createElement('div');\n",
              "          docLink.innerHTML = docLinkHtml;\n",
              "          element.appendChild(docLink);\n",
              "        }\n",
              "      </script>\n",
              "    </div>\n",
              "  </div>\n",
              "  "
            ]
          },
          "metadata": {},
          "execution_count": 77
        }
      ]
    },
    {
      "cell_type": "code",
      "source": [
        "#Checking order id with duplicate\n",
        "\n",
        "df=all_data['Order ID'].duplicated(keep=False)"
      ],
      "metadata": {
        "id": "ROtz5XAvLbA8"
      },
      "execution_count": 78,
      "outputs": []
    },
    {
      "cell_type": "code",
      "source": [
        "#Passing the result into my dataframe\n",
        "\n",
        "df2 = all_data[df]\n",
        "\n",
        "df2.head()"
      ],
      "metadata": {
        "colab": {
          "base_uri": "https://localhost:8080/",
          "height": 528
        },
        "id": "AeQmOp0TBSt9",
        "outputId": "b3cd1a1a-4927-46d1-8d7c-91c12eda0758"
      },
      "execution_count": 79,
      "outputs": [
        {
          "output_type": "execute_result",
          "data": {
            "text/plain": [
              "   Order ID                   Product  Quantity Ordered  Price Each  \\\n",
              "0    162009                    iPhone                 1      700.00   \n",
              "1    162009  Lightning Charging Cable                 1       14.95   \n",
              "2    162009          Wired Headphones                 2       11.99   \n",
              "30   162037                    iPhone                 1      700.00   \n",
              "31   162037  Lightning Charging Cable                 1       14.95   \n",
              "\n",
              "        Order Date                   Purchase Address  month   sales  \\\n",
              "0   03/28/19 20:59    942 Church St, Austin, TX 73301      3  700.00   \n",
              "1   03/28/19 20:59    942 Church St, Austin, TX 73301      3   14.95   \n",
              "2   03/28/19 20:59    942 Church St, Austin, TX 73301      3   23.98   \n",
              "30  03/23/19 02:11  277 Elm St, Los Angeles, CA 90001      3  700.00   \n",
              "31  03/23/19 02:11  277 Elm St, Los Angeles, CA 90001      3   14.95   \n",
              "\n",
              "            city  Hour  \n",
              "0         Austin    20  \n",
              "1         Austin    20  \n",
              "2         Austin    20  \n",
              "30   Los Angeles     2  \n",
              "31   Los Angeles     2  "
            ],
            "text/html": [
              "\n",
              "  <div id=\"df-b2f44e36-1c4b-413c-9ea5-2635366e1666\">\n",
              "    <div class=\"colab-df-container\">\n",
              "      <div>\n",
              "<style scoped>\n",
              "    .dataframe tbody tr th:only-of-type {\n",
              "        vertical-align: middle;\n",
              "    }\n",
              "\n",
              "    .dataframe tbody tr th {\n",
              "        vertical-align: top;\n",
              "    }\n",
              "\n",
              "    .dataframe thead th {\n",
              "        text-align: right;\n",
              "    }\n",
              "</style>\n",
              "<table border=\"1\" class=\"dataframe\">\n",
              "  <thead>\n",
              "    <tr style=\"text-align: right;\">\n",
              "      <th></th>\n",
              "      <th>Order ID</th>\n",
              "      <th>Product</th>\n",
              "      <th>Quantity Ordered</th>\n",
              "      <th>Price Each</th>\n",
              "      <th>Order Date</th>\n",
              "      <th>Purchase Address</th>\n",
              "      <th>month</th>\n",
              "      <th>sales</th>\n",
              "      <th>city</th>\n",
              "      <th>Hour</th>\n",
              "    </tr>\n",
              "  </thead>\n",
              "  <tbody>\n",
              "    <tr>\n",
              "      <th>0</th>\n",
              "      <td>162009</td>\n",
              "      <td>iPhone</td>\n",
              "      <td>1</td>\n",
              "      <td>700.00</td>\n",
              "      <td>03/28/19 20:59</td>\n",
              "      <td>942 Church St, Austin, TX 73301</td>\n",
              "      <td>3</td>\n",
              "      <td>700.00</td>\n",
              "      <td>Austin</td>\n",
              "      <td>20</td>\n",
              "    </tr>\n",
              "    <tr>\n",
              "      <th>1</th>\n",
              "      <td>162009</td>\n",
              "      <td>Lightning Charging Cable</td>\n",
              "      <td>1</td>\n",
              "      <td>14.95</td>\n",
              "      <td>03/28/19 20:59</td>\n",
              "      <td>942 Church St, Austin, TX 73301</td>\n",
              "      <td>3</td>\n",
              "      <td>14.95</td>\n",
              "      <td>Austin</td>\n",
              "      <td>20</td>\n",
              "    </tr>\n",
              "    <tr>\n",
              "      <th>2</th>\n",
              "      <td>162009</td>\n",
              "      <td>Wired Headphones</td>\n",
              "      <td>2</td>\n",
              "      <td>11.99</td>\n",
              "      <td>03/28/19 20:59</td>\n",
              "      <td>942 Church St, Austin, TX 73301</td>\n",
              "      <td>3</td>\n",
              "      <td>23.98</td>\n",
              "      <td>Austin</td>\n",
              "      <td>20</td>\n",
              "    </tr>\n",
              "    <tr>\n",
              "      <th>30</th>\n",
              "      <td>162037</td>\n",
              "      <td>iPhone</td>\n",
              "      <td>1</td>\n",
              "      <td>700.00</td>\n",
              "      <td>03/23/19 02:11</td>\n",
              "      <td>277 Elm St, Los Angeles, CA 90001</td>\n",
              "      <td>3</td>\n",
              "      <td>700.00</td>\n",
              "      <td>Los Angeles</td>\n",
              "      <td>2</td>\n",
              "    </tr>\n",
              "    <tr>\n",
              "      <th>31</th>\n",
              "      <td>162037</td>\n",
              "      <td>Lightning Charging Cable</td>\n",
              "      <td>1</td>\n",
              "      <td>14.95</td>\n",
              "      <td>03/23/19 02:11</td>\n",
              "      <td>277 Elm St, Los Angeles, CA 90001</td>\n",
              "      <td>3</td>\n",
              "      <td>14.95</td>\n",
              "      <td>Los Angeles</td>\n",
              "      <td>2</td>\n",
              "    </tr>\n",
              "  </tbody>\n",
              "</table>\n",
              "</div>\n",
              "      <button class=\"colab-df-convert\" onclick=\"convertToInteractive('df-b2f44e36-1c4b-413c-9ea5-2635366e1666')\"\n",
              "              title=\"Convert this dataframe to an interactive table.\"\n",
              "              style=\"display:none;\">\n",
              "        \n",
              "  <svg xmlns=\"http://www.w3.org/2000/svg\" height=\"24px\"viewBox=\"0 0 24 24\"\n",
              "       width=\"24px\">\n",
              "    <path d=\"M0 0h24v24H0V0z\" fill=\"none\"/>\n",
              "    <path d=\"M18.56 5.44l.94 2.06.94-2.06 2.06-.94-2.06-.94-.94-2.06-.94 2.06-2.06.94zm-11 1L8.5 8.5l.94-2.06 2.06-.94-2.06-.94L8.5 2.5l-.94 2.06-2.06.94zm10 10l.94 2.06.94-2.06 2.06-.94-2.06-.94-.94-2.06-.94 2.06-2.06.94z\"/><path d=\"M17.41 7.96l-1.37-1.37c-.4-.4-.92-.59-1.43-.59-.52 0-1.04.2-1.43.59L10.3 9.45l-7.72 7.72c-.78.78-.78 2.05 0 2.83L4 21.41c.39.39.9.59 1.41.59.51 0 1.02-.2 1.41-.59l7.78-7.78 2.81-2.81c.8-.78.8-2.07 0-2.86zM5.41 20L4 18.59l7.72-7.72 1.47 1.35L5.41 20z\"/>\n",
              "  </svg>\n",
              "      </button>\n",
              "      \n",
              "  <style>\n",
              "    .colab-df-container {\n",
              "      display:flex;\n",
              "      flex-wrap:wrap;\n",
              "      gap: 12px;\n",
              "    }\n",
              "\n",
              "    .colab-df-convert {\n",
              "      background-color: #E8F0FE;\n",
              "      border: none;\n",
              "      border-radius: 50%;\n",
              "      cursor: pointer;\n",
              "      display: none;\n",
              "      fill: #1967D2;\n",
              "      height: 32px;\n",
              "      padding: 0 0 0 0;\n",
              "      width: 32px;\n",
              "    }\n",
              "\n",
              "    .colab-df-convert:hover {\n",
              "      background-color: #E2EBFA;\n",
              "      box-shadow: 0px 1px 2px rgba(60, 64, 67, 0.3), 0px 1px 3px 1px rgba(60, 64, 67, 0.15);\n",
              "      fill: #174EA6;\n",
              "    }\n",
              "\n",
              "    [theme=dark] .colab-df-convert {\n",
              "      background-color: #3B4455;\n",
              "      fill: #D2E3FC;\n",
              "    }\n",
              "\n",
              "    [theme=dark] .colab-df-convert:hover {\n",
              "      background-color: #434B5C;\n",
              "      box-shadow: 0px 1px 3px 1px rgba(0, 0, 0, 0.15);\n",
              "      filter: drop-shadow(0px 1px 2px rgba(0, 0, 0, 0.3));\n",
              "      fill: #FFFFFF;\n",
              "    }\n",
              "  </style>\n",
              "\n",
              "      <script>\n",
              "        const buttonEl =\n",
              "          document.querySelector('#df-b2f44e36-1c4b-413c-9ea5-2635366e1666 button.colab-df-convert');\n",
              "        buttonEl.style.display =\n",
              "          google.colab.kernel.accessAllowed ? 'block' : 'none';\n",
              "\n",
              "        async function convertToInteractive(key) {\n",
              "          const element = document.querySelector('#df-b2f44e36-1c4b-413c-9ea5-2635366e1666');\n",
              "          const dataTable =\n",
              "            await google.colab.kernel.invokeFunction('convertToInteractive',\n",
              "                                                     [key], {});\n",
              "          if (!dataTable) return;\n",
              "\n",
              "          const docLinkHtml = 'Like what you see? Visit the ' +\n",
              "            '<a target=\"_blank\" href=https://colab.research.google.com/notebooks/data_table.ipynb>data table notebook</a>'\n",
              "            + ' to learn more about interactive tables.';\n",
              "          element.innerHTML = '';\n",
              "          dataTable['output_type'] = 'display_data';\n",
              "          await google.colab.output.renderOutput(dataTable, element);\n",
              "          const docLink = document.createElement('div');\n",
              "          docLink.innerHTML = docLinkHtml;\n",
              "          element.appendChild(docLink);\n",
              "        }\n",
              "      </script>\n",
              "    </div>\n",
              "  </div>\n",
              "  "
            ]
          },
          "metadata": {},
          "execution_count": 79
        }
      ]
    },
    {
      "cell_type": "code",
      "source": [
        "#Group by order id\n",
        "\n",
        "df2['Grouped']=df2.groupby('Order ID')['Product'].transform(lambda x:','.join(x))"
      ],
      "metadata": {
        "colab": {
          "base_uri": "https://localhost:8080/"
        },
        "id": "rBciH6eWMlVA",
        "outputId": "4bfdf934-98bf-4649-ea78-9c379f095de4"
      },
      "execution_count": 80,
      "outputs": [
        {
          "output_type": "stream",
          "name": "stderr",
          "text": [
            "<ipython-input-80-8fc3395f1815>:3: SettingWithCopyWarning: \n",
            "A value is trying to be set on a copy of a slice from a DataFrame.\n",
            "Try using .loc[row_indexer,col_indexer] = value instead\n",
            "\n",
            "See the caveats in the documentation: https://pandas.pydata.org/pandas-docs/stable/user_guide/indexing.html#returning-a-view-versus-a-copy\n",
            "  df2['Grouped']=df2.groupby('Order ID')['Product'].transform(lambda x:','.join(x))\n"
          ]
        }
      ]
    },
    {
      "cell_type": "code",
      "source": [
        "df2.head()"
      ],
      "metadata": {
        "colab": {
          "base_uri": "https://localhost:8080/",
          "height": 548
        },
        "id": "PORUwcAiNxB5",
        "outputId": "6717506c-2a18-4e93-bccc-5d76f0570329"
      },
      "execution_count": 81,
      "outputs": [
        {
          "output_type": "execute_result",
          "data": {
            "text/plain": [
              "   Order ID                   Product  Quantity Ordered  Price Each  \\\n",
              "0    162009                    iPhone                 1      700.00   \n",
              "1    162009  Lightning Charging Cable                 1       14.95   \n",
              "2    162009          Wired Headphones                 2       11.99   \n",
              "30   162037                    iPhone                 1      700.00   \n",
              "31   162037  Lightning Charging Cable                 1       14.95   \n",
              "\n",
              "        Order Date                   Purchase Address  month   sales  \\\n",
              "0   03/28/19 20:59    942 Church St, Austin, TX 73301      3  700.00   \n",
              "1   03/28/19 20:59    942 Church St, Austin, TX 73301      3   14.95   \n",
              "2   03/28/19 20:59    942 Church St, Austin, TX 73301      3   23.98   \n",
              "30  03/23/19 02:11  277 Elm St, Los Angeles, CA 90001      3  700.00   \n",
              "31  03/23/19 02:11  277 Elm St, Los Angeles, CA 90001      3   14.95   \n",
              "\n",
              "            city  Hour                                           Grouped  \n",
              "0         Austin    20  iPhone,Lightning Charging Cable,Wired Headphones  \n",
              "1         Austin    20  iPhone,Lightning Charging Cable,Wired Headphones  \n",
              "2         Austin    20  iPhone,Lightning Charging Cable,Wired Headphones  \n",
              "30   Los Angeles     2                   iPhone,Lightning Charging Cable  \n",
              "31   Los Angeles     2                   iPhone,Lightning Charging Cable  "
            ],
            "text/html": [
              "\n",
              "  <div id=\"df-18073b68-8fe6-4499-82a9-32fbd439defb\">\n",
              "    <div class=\"colab-df-container\">\n",
              "      <div>\n",
              "<style scoped>\n",
              "    .dataframe tbody tr th:only-of-type {\n",
              "        vertical-align: middle;\n",
              "    }\n",
              "\n",
              "    .dataframe tbody tr th {\n",
              "        vertical-align: top;\n",
              "    }\n",
              "\n",
              "    .dataframe thead th {\n",
              "        text-align: right;\n",
              "    }\n",
              "</style>\n",
              "<table border=\"1\" class=\"dataframe\">\n",
              "  <thead>\n",
              "    <tr style=\"text-align: right;\">\n",
              "      <th></th>\n",
              "      <th>Order ID</th>\n",
              "      <th>Product</th>\n",
              "      <th>Quantity Ordered</th>\n",
              "      <th>Price Each</th>\n",
              "      <th>Order Date</th>\n",
              "      <th>Purchase Address</th>\n",
              "      <th>month</th>\n",
              "      <th>sales</th>\n",
              "      <th>city</th>\n",
              "      <th>Hour</th>\n",
              "      <th>Grouped</th>\n",
              "    </tr>\n",
              "  </thead>\n",
              "  <tbody>\n",
              "    <tr>\n",
              "      <th>0</th>\n",
              "      <td>162009</td>\n",
              "      <td>iPhone</td>\n",
              "      <td>1</td>\n",
              "      <td>700.00</td>\n",
              "      <td>03/28/19 20:59</td>\n",
              "      <td>942 Church St, Austin, TX 73301</td>\n",
              "      <td>3</td>\n",
              "      <td>700.00</td>\n",
              "      <td>Austin</td>\n",
              "      <td>20</td>\n",
              "      <td>iPhone,Lightning Charging Cable,Wired Headphones</td>\n",
              "    </tr>\n",
              "    <tr>\n",
              "      <th>1</th>\n",
              "      <td>162009</td>\n",
              "      <td>Lightning Charging Cable</td>\n",
              "      <td>1</td>\n",
              "      <td>14.95</td>\n",
              "      <td>03/28/19 20:59</td>\n",
              "      <td>942 Church St, Austin, TX 73301</td>\n",
              "      <td>3</td>\n",
              "      <td>14.95</td>\n",
              "      <td>Austin</td>\n",
              "      <td>20</td>\n",
              "      <td>iPhone,Lightning Charging Cable,Wired Headphones</td>\n",
              "    </tr>\n",
              "    <tr>\n",
              "      <th>2</th>\n",
              "      <td>162009</td>\n",
              "      <td>Wired Headphones</td>\n",
              "      <td>2</td>\n",
              "      <td>11.99</td>\n",
              "      <td>03/28/19 20:59</td>\n",
              "      <td>942 Church St, Austin, TX 73301</td>\n",
              "      <td>3</td>\n",
              "      <td>23.98</td>\n",
              "      <td>Austin</td>\n",
              "      <td>20</td>\n",
              "      <td>iPhone,Lightning Charging Cable,Wired Headphones</td>\n",
              "    </tr>\n",
              "    <tr>\n",
              "      <th>30</th>\n",
              "      <td>162037</td>\n",
              "      <td>iPhone</td>\n",
              "      <td>1</td>\n",
              "      <td>700.00</td>\n",
              "      <td>03/23/19 02:11</td>\n",
              "      <td>277 Elm St, Los Angeles, CA 90001</td>\n",
              "      <td>3</td>\n",
              "      <td>700.00</td>\n",
              "      <td>Los Angeles</td>\n",
              "      <td>2</td>\n",
              "      <td>iPhone,Lightning Charging Cable</td>\n",
              "    </tr>\n",
              "    <tr>\n",
              "      <th>31</th>\n",
              "      <td>162037</td>\n",
              "      <td>Lightning Charging Cable</td>\n",
              "      <td>1</td>\n",
              "      <td>14.95</td>\n",
              "      <td>03/23/19 02:11</td>\n",
              "      <td>277 Elm St, Los Angeles, CA 90001</td>\n",
              "      <td>3</td>\n",
              "      <td>14.95</td>\n",
              "      <td>Los Angeles</td>\n",
              "      <td>2</td>\n",
              "      <td>iPhone,Lightning Charging Cable</td>\n",
              "    </tr>\n",
              "  </tbody>\n",
              "</table>\n",
              "</div>\n",
              "      <button class=\"colab-df-convert\" onclick=\"convertToInteractive('df-18073b68-8fe6-4499-82a9-32fbd439defb')\"\n",
              "              title=\"Convert this dataframe to an interactive table.\"\n",
              "              style=\"display:none;\">\n",
              "        \n",
              "  <svg xmlns=\"http://www.w3.org/2000/svg\" height=\"24px\"viewBox=\"0 0 24 24\"\n",
              "       width=\"24px\">\n",
              "    <path d=\"M0 0h24v24H0V0z\" fill=\"none\"/>\n",
              "    <path d=\"M18.56 5.44l.94 2.06.94-2.06 2.06-.94-2.06-.94-.94-2.06-.94 2.06-2.06.94zm-11 1L8.5 8.5l.94-2.06 2.06-.94-2.06-.94L8.5 2.5l-.94 2.06-2.06.94zm10 10l.94 2.06.94-2.06 2.06-.94-2.06-.94-.94-2.06-.94 2.06-2.06.94z\"/><path d=\"M17.41 7.96l-1.37-1.37c-.4-.4-.92-.59-1.43-.59-.52 0-1.04.2-1.43.59L10.3 9.45l-7.72 7.72c-.78.78-.78 2.05 0 2.83L4 21.41c.39.39.9.59 1.41.59.51 0 1.02-.2 1.41-.59l7.78-7.78 2.81-2.81c.8-.78.8-2.07 0-2.86zM5.41 20L4 18.59l7.72-7.72 1.47 1.35L5.41 20z\"/>\n",
              "  </svg>\n",
              "      </button>\n",
              "      \n",
              "  <style>\n",
              "    .colab-df-container {\n",
              "      display:flex;\n",
              "      flex-wrap:wrap;\n",
              "      gap: 12px;\n",
              "    }\n",
              "\n",
              "    .colab-df-convert {\n",
              "      background-color: #E8F0FE;\n",
              "      border: none;\n",
              "      border-radius: 50%;\n",
              "      cursor: pointer;\n",
              "      display: none;\n",
              "      fill: #1967D2;\n",
              "      height: 32px;\n",
              "      padding: 0 0 0 0;\n",
              "      width: 32px;\n",
              "    }\n",
              "\n",
              "    .colab-df-convert:hover {\n",
              "      background-color: #E2EBFA;\n",
              "      box-shadow: 0px 1px 2px rgba(60, 64, 67, 0.3), 0px 1px 3px 1px rgba(60, 64, 67, 0.15);\n",
              "      fill: #174EA6;\n",
              "    }\n",
              "\n",
              "    [theme=dark] .colab-df-convert {\n",
              "      background-color: #3B4455;\n",
              "      fill: #D2E3FC;\n",
              "    }\n",
              "\n",
              "    [theme=dark] .colab-df-convert:hover {\n",
              "      background-color: #434B5C;\n",
              "      box-shadow: 0px 1px 3px 1px rgba(0, 0, 0, 0.15);\n",
              "      filter: drop-shadow(0px 1px 2px rgba(0, 0, 0, 0.3));\n",
              "      fill: #FFFFFF;\n",
              "    }\n",
              "  </style>\n",
              "\n",
              "      <script>\n",
              "        const buttonEl =\n",
              "          document.querySelector('#df-18073b68-8fe6-4499-82a9-32fbd439defb button.colab-df-convert');\n",
              "        buttonEl.style.display =\n",
              "          google.colab.kernel.accessAllowed ? 'block' : 'none';\n",
              "\n",
              "        async function convertToInteractive(key) {\n",
              "          const element = document.querySelector('#df-18073b68-8fe6-4499-82a9-32fbd439defb');\n",
              "          const dataTable =\n",
              "            await google.colab.kernel.invokeFunction('convertToInteractive',\n",
              "                                                     [key], {});\n",
              "          if (!dataTable) return;\n",
              "\n",
              "          const docLinkHtml = 'Like what you see? Visit the ' +\n",
              "            '<a target=\"_blank\" href=https://colab.research.google.com/notebooks/data_table.ipynb>data table notebook</a>'\n",
              "            + ' to learn more about interactive tables.';\n",
              "          element.innerHTML = '';\n",
              "          dataTable['output_type'] = 'display_data';\n",
              "          await google.colab.output.renderOutput(dataTable, element);\n",
              "          const docLink = document.createElement('div');\n",
              "          docLink.innerHTML = docLinkHtml;\n",
              "          element.appendChild(docLink);\n",
              "        }\n",
              "      </script>\n",
              "    </div>\n",
              "  </div>\n",
              "  "
            ]
          },
          "metadata": {},
          "execution_count": 81
        }
      ]
    },
    {
      "cell_type": "code",
      "source": [
        "#So now we can remove the duplicate\n",
        "\n",
        "df2=df2.drop_duplicates(subset=['Order ID'])\n",
        "\n",
        "df2.head()"
      ],
      "metadata": {
        "colab": {
          "base_uri": "https://localhost:8080/",
          "height": 582
        },
        "id": "h_yqSgE9N7tF",
        "outputId": "07aba83e-967f-4e49-d89a-593826a8b128"
      },
      "execution_count": 82,
      "outputs": [
        {
          "output_type": "execute_result",
          "data": {
            "text/plain": [
              "   Order ID                Product  Quantity Ordered  Price Each  \\\n",
              "0    162009                 iPhone                 1      700.00   \n",
              "30   162037                 iPhone                 1      700.00   \n",
              "60   162066  AA Batteries (4-pack)                 1        3.84   \n",
              "66   162071        Vareebadd Phone                 1      400.00   \n",
              "78   162082        Vareebadd Phone                 1      400.00   \n",
              "\n",
              "        Order Date                        Purchase Address  month   sales  \\\n",
              "0   03/28/19 20:59         942 Church St, Austin, TX 73301      3  700.00   \n",
              "30  03/23/19 02:11       277 Elm St, Los Angeles, CA 90001      3  700.00   \n",
              "60  03/13/19 13:57    602 Pine St, New York City, NY 10001      3    3.84   \n",
              "66  03/30/19 20:23       334 Jackson St, Atlanta, GA 30301      3  400.00   \n",
              "78  03/09/19 14:15  401 Wilson St, New York City, NY 10001      3  400.00   \n",
              "\n",
              "              city  Hour                                           Grouped  \n",
              "0           Austin    20  iPhone,Lightning Charging Cable,Wired Headphones  \n",
              "30     Los Angeles     2                   iPhone,Lightning Charging Cable  \n",
              "60   New York City    13        AA Batteries (4-pack),USB-C Charging Cable  \n",
              "66         Atlanta    20              Vareebadd Phone,USB-C Charging Cable  \n",
              "78   New York City    14                  Vareebadd Phone,Wired Headphones  "
            ],
            "text/html": [
              "\n",
              "  <div id=\"df-2ecfe082-b25a-40ce-9a13-2fc39c3cf354\">\n",
              "    <div class=\"colab-df-container\">\n",
              "      <div>\n",
              "<style scoped>\n",
              "    .dataframe tbody tr th:only-of-type {\n",
              "        vertical-align: middle;\n",
              "    }\n",
              "\n",
              "    .dataframe tbody tr th {\n",
              "        vertical-align: top;\n",
              "    }\n",
              "\n",
              "    .dataframe thead th {\n",
              "        text-align: right;\n",
              "    }\n",
              "</style>\n",
              "<table border=\"1\" class=\"dataframe\">\n",
              "  <thead>\n",
              "    <tr style=\"text-align: right;\">\n",
              "      <th></th>\n",
              "      <th>Order ID</th>\n",
              "      <th>Product</th>\n",
              "      <th>Quantity Ordered</th>\n",
              "      <th>Price Each</th>\n",
              "      <th>Order Date</th>\n",
              "      <th>Purchase Address</th>\n",
              "      <th>month</th>\n",
              "      <th>sales</th>\n",
              "      <th>city</th>\n",
              "      <th>Hour</th>\n",
              "      <th>Grouped</th>\n",
              "    </tr>\n",
              "  </thead>\n",
              "  <tbody>\n",
              "    <tr>\n",
              "      <th>0</th>\n",
              "      <td>162009</td>\n",
              "      <td>iPhone</td>\n",
              "      <td>1</td>\n",
              "      <td>700.00</td>\n",
              "      <td>03/28/19 20:59</td>\n",
              "      <td>942 Church St, Austin, TX 73301</td>\n",
              "      <td>3</td>\n",
              "      <td>700.00</td>\n",
              "      <td>Austin</td>\n",
              "      <td>20</td>\n",
              "      <td>iPhone,Lightning Charging Cable,Wired Headphones</td>\n",
              "    </tr>\n",
              "    <tr>\n",
              "      <th>30</th>\n",
              "      <td>162037</td>\n",
              "      <td>iPhone</td>\n",
              "      <td>1</td>\n",
              "      <td>700.00</td>\n",
              "      <td>03/23/19 02:11</td>\n",
              "      <td>277 Elm St, Los Angeles, CA 90001</td>\n",
              "      <td>3</td>\n",
              "      <td>700.00</td>\n",
              "      <td>Los Angeles</td>\n",
              "      <td>2</td>\n",
              "      <td>iPhone,Lightning Charging Cable</td>\n",
              "    </tr>\n",
              "    <tr>\n",
              "      <th>60</th>\n",
              "      <td>162066</td>\n",
              "      <td>AA Batteries (4-pack)</td>\n",
              "      <td>1</td>\n",
              "      <td>3.84</td>\n",
              "      <td>03/13/19 13:57</td>\n",
              "      <td>602 Pine St, New York City, NY 10001</td>\n",
              "      <td>3</td>\n",
              "      <td>3.84</td>\n",
              "      <td>New York City</td>\n",
              "      <td>13</td>\n",
              "      <td>AA Batteries (4-pack),USB-C Charging Cable</td>\n",
              "    </tr>\n",
              "    <tr>\n",
              "      <th>66</th>\n",
              "      <td>162071</td>\n",
              "      <td>Vareebadd Phone</td>\n",
              "      <td>1</td>\n",
              "      <td>400.00</td>\n",
              "      <td>03/30/19 20:23</td>\n",
              "      <td>334 Jackson St, Atlanta, GA 30301</td>\n",
              "      <td>3</td>\n",
              "      <td>400.00</td>\n",
              "      <td>Atlanta</td>\n",
              "      <td>20</td>\n",
              "      <td>Vareebadd Phone,USB-C Charging Cable</td>\n",
              "    </tr>\n",
              "    <tr>\n",
              "      <th>78</th>\n",
              "      <td>162082</td>\n",
              "      <td>Vareebadd Phone</td>\n",
              "      <td>1</td>\n",
              "      <td>400.00</td>\n",
              "      <td>03/09/19 14:15</td>\n",
              "      <td>401 Wilson St, New York City, NY 10001</td>\n",
              "      <td>3</td>\n",
              "      <td>400.00</td>\n",
              "      <td>New York City</td>\n",
              "      <td>14</td>\n",
              "      <td>Vareebadd Phone,Wired Headphones</td>\n",
              "    </tr>\n",
              "  </tbody>\n",
              "</table>\n",
              "</div>\n",
              "      <button class=\"colab-df-convert\" onclick=\"convertToInteractive('df-2ecfe082-b25a-40ce-9a13-2fc39c3cf354')\"\n",
              "              title=\"Convert this dataframe to an interactive table.\"\n",
              "              style=\"display:none;\">\n",
              "        \n",
              "  <svg xmlns=\"http://www.w3.org/2000/svg\" height=\"24px\"viewBox=\"0 0 24 24\"\n",
              "       width=\"24px\">\n",
              "    <path d=\"M0 0h24v24H0V0z\" fill=\"none\"/>\n",
              "    <path d=\"M18.56 5.44l.94 2.06.94-2.06 2.06-.94-2.06-.94-.94-2.06-.94 2.06-2.06.94zm-11 1L8.5 8.5l.94-2.06 2.06-.94-2.06-.94L8.5 2.5l-.94 2.06-2.06.94zm10 10l.94 2.06.94-2.06 2.06-.94-2.06-.94-.94-2.06-.94 2.06-2.06.94z\"/><path d=\"M17.41 7.96l-1.37-1.37c-.4-.4-.92-.59-1.43-.59-.52 0-1.04.2-1.43.59L10.3 9.45l-7.72 7.72c-.78.78-.78 2.05 0 2.83L4 21.41c.39.39.9.59 1.41.59.51 0 1.02-.2 1.41-.59l7.78-7.78 2.81-2.81c.8-.78.8-2.07 0-2.86zM5.41 20L4 18.59l7.72-7.72 1.47 1.35L5.41 20z\"/>\n",
              "  </svg>\n",
              "      </button>\n",
              "      \n",
              "  <style>\n",
              "    .colab-df-container {\n",
              "      display:flex;\n",
              "      flex-wrap:wrap;\n",
              "      gap: 12px;\n",
              "    }\n",
              "\n",
              "    .colab-df-convert {\n",
              "      background-color: #E8F0FE;\n",
              "      border: none;\n",
              "      border-radius: 50%;\n",
              "      cursor: pointer;\n",
              "      display: none;\n",
              "      fill: #1967D2;\n",
              "      height: 32px;\n",
              "      padding: 0 0 0 0;\n",
              "      width: 32px;\n",
              "    }\n",
              "\n",
              "    .colab-df-convert:hover {\n",
              "      background-color: #E2EBFA;\n",
              "      box-shadow: 0px 1px 2px rgba(60, 64, 67, 0.3), 0px 1px 3px 1px rgba(60, 64, 67, 0.15);\n",
              "      fill: #174EA6;\n",
              "    }\n",
              "\n",
              "    [theme=dark] .colab-df-convert {\n",
              "      background-color: #3B4455;\n",
              "      fill: #D2E3FC;\n",
              "    }\n",
              "\n",
              "    [theme=dark] .colab-df-convert:hover {\n",
              "      background-color: #434B5C;\n",
              "      box-shadow: 0px 1px 3px 1px rgba(0, 0, 0, 0.15);\n",
              "      filter: drop-shadow(0px 1px 2px rgba(0, 0, 0, 0.3));\n",
              "      fill: #FFFFFF;\n",
              "    }\n",
              "  </style>\n",
              "\n",
              "      <script>\n",
              "        const buttonEl =\n",
              "          document.querySelector('#df-2ecfe082-b25a-40ce-9a13-2fc39c3cf354 button.colab-df-convert');\n",
              "        buttonEl.style.display =\n",
              "          google.colab.kernel.accessAllowed ? 'block' : 'none';\n",
              "\n",
              "        async function convertToInteractive(key) {\n",
              "          const element = document.querySelector('#df-2ecfe082-b25a-40ce-9a13-2fc39c3cf354');\n",
              "          const dataTable =\n",
              "            await google.colab.kernel.invokeFunction('convertToInteractive',\n",
              "                                                     [key], {});\n",
              "          if (!dataTable) return;\n",
              "\n",
              "          const docLinkHtml = 'Like what you see? Visit the ' +\n",
              "            '<a target=\"_blank\" href=https://colab.research.google.com/notebooks/data_table.ipynb>data table notebook</a>'\n",
              "            + ' to learn more about interactive tables.';\n",
              "          element.innerHTML = '';\n",
              "          dataTable['output_type'] = 'display_data';\n",
              "          await google.colab.output.renderOutput(dataTable, element);\n",
              "          const docLink = document.createElement('div');\n",
              "          docLink.innerHTML = docLinkHtml;\n",
              "          element.appendChild(docLink);\n",
              "        }\n",
              "      </script>\n",
              "    </div>\n",
              "  </div>\n",
              "  "
            ]
          },
          "metadata": {},
          "execution_count": 82
        }
      ]
    },
    {
      "cell_type": "code",
      "source": [
        "#Counting the grouped product\n",
        "\n",
        "df2['Grouped'].value_counts()"
      ],
      "metadata": {
        "colab": {
          "base_uri": "https://localhost:8080/"
        },
        "id": "WTUjwByiOZl4",
        "outputId": "d5040170-ac29-47c7-b8da-cefe73f08fd5"
      },
      "execution_count": 83,
      "outputs": [
        {
          "output_type": "execute_result",
          "data": {
            "text/plain": [
              "iPhone,Lightning Charging Cable                                     882\n",
              "Google Phone,USB-C Charging Cable                                   856\n",
              "iPhone,Wired Headphones                                             361\n",
              "Vareebadd Phone,USB-C Charging Cable                                312\n",
              "Google Phone,Wired Headphones                                       303\n",
              "                                                                   ... \n",
              "Vareebadd Phone,Bose SoundSport Headphones,Flatscreen TV              1\n",
              "LG Washing Machine,Apple Airpods Headphones                           1\n",
              "Google Phone,Bose SoundSport Headphones,Lightning Charging Cable      1\n",
              "20in Monitor,iPhone                                                   1\n",
              "Vareebadd Phone,Lightning Charging Cable                              1\n",
              "Name: Grouped, Length: 366, dtype: int64"
            ]
          },
          "metadata": {},
          "execution_count": 83
        }
      ]
    },
    {
      "cell_type": "code",
      "source": [
        "#Let plot the top 5\n",
        "\n",
        "top_5 =df2['Grouped'].value_counts()[0:5]\n",
        "\n",
        "top_5"
      ],
      "metadata": {
        "colab": {
          "base_uri": "https://localhost:8080/"
        },
        "id": "YcsugHmsOyRG",
        "outputId": "6272b85f-21a2-4f0f-d3ca-ee9bf28b11b6"
      },
      "execution_count": 84,
      "outputs": [
        {
          "output_type": "execute_result",
          "data": {
            "text/plain": [
              "iPhone,Lightning Charging Cable         882\n",
              "Google Phone,USB-C Charging Cable       856\n",
              "iPhone,Wired Headphones                 361\n",
              "Vareebadd Phone,USB-C Charging Cable    312\n",
              "Google Phone,Wired Headphones           303\n",
              "Name: Grouped, dtype: int64"
            ]
          },
          "metadata": {},
          "execution_count": 84
        }
      ]
    },
    {
      "cell_type": "code",
      "source": [
        "data = top_5\n",
        "labels=top_5.index\n",
        "\n",
        "fig, ax=plt.subplots()\n",
        "ax.pie(data,labels=labels,autopct='%1.1f%%')\n",
        "ax.set_title('Top 5 Products often sold together', size=15)\n",
        "\n",
        "\n",
        "\n",
        "plt.savefig('/content/drive/MyDrive/Colab Notebooks/Ecom data/Most_bought_together_items.png',bbox_inches='tight')\n",
        "plt.show()\n",
        "plt.close()\n"
      ],
      "metadata": {
        "id": "NPRTYfCczy2v",
        "outputId": "3704f489-560d-4edf-a9a3-881ea845d309",
        "colab": {
          "base_uri": "https://localhost:8080/",
          "height": 266
        }
      },
      "execution_count": 101,
      "outputs": [
        {
          "output_type": "display_data",
          "data": {
            "text/plain": [
              "<Figure size 432x288 with 1 Axes>"
            ],
            "image/png": "[encoded data removed]"
          },
          "metadata": {}
        }
      ]
    },
    {
      "cell_type": "markdown",
      "source": [
        "From the above viz, it showns that iPhone, Lightning Charging Cable is the most bought together products followed by Google Phone, USB-c Charging Cable. "
      ],
      "metadata": {
        "id": "Quuc3bWLPc5G"
      }
    }
  ]
}